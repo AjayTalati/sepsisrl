{
 "cells": [
  {
   "cell_type": "code",
   "execution_count": 97,
   "metadata": {
    "collapsed": true
   },
   "outputs": [],
   "source": [
    "%matplotlib inline\n",
    "import numpy as np\n",
    "import pandas as pd\n",
    "import matplotlib.pyplot as plt\n",
    "from pandas import DataFrame"
   ]
  },
  {
   "cell_type": "code",
   "execution_count": 98,
   "metadata": {
    "collapsed": false
   },
   "outputs": [],
   "source": [
    "disc_inp_data = pd.read_csv(\"discretised_input_data.csv\")"
   ]
  },
  {
   "cell_type": "code",
   "execution_count": 99,
   "metadata": {
    "collapsed": false
   },
   "outputs": [
    {
     "data": {
      "text/plain": [
       "Index([u'Unnamed: 0', u'bloc', u'icustayid', u'charttime', u'gender', u'age',\n",
       "       u'elixhauser', u're_admission', u'died_in_hosp', u'mortality_90d',\n",
       "       u'Weight_kg', u'GCS', u'HR', u'SysBP', u'MeanBP', u'DiaBP',\n",
       "       u'Shock_Index', u'RR', u'SpO2', u'Temp_C', u'FiO2_1', u'Potassium',\n",
       "       u'Sodium', u'Chloride', u'Glucose', u'BUN', u'Creatinine', u'Magnesium',\n",
       "       u'Calcium', u'Ionised_Ca', u'CO2_mEqL', u'SGOT', u'SGPT', u'Total_bili',\n",
       "       u'Albumin', u'Hb', u'WBC_count', u'Platelets_count', u'PTT', u'PT',\n",
       "       u'INR', u'Arterial_pH', u'paO2', u'paCO2', u'Arterial_BE',\n",
       "       u'Arterial_lactate', u'HCO3', u'PaO2_FiO2', u'mechvent', u'SOFA',\n",
       "       u'SIRS', u'median_dose_vaso', u'max_dose_vaso', u'input_total_tev',\n",
       "       u'input_4hourly_tev', u'output_total', u'output_4hourly',\n",
       "       u'cumulated_balance_tev'],\n",
       "      dtype='object')"
      ]
     },
     "execution_count": 99,
     "metadata": {},
     "output_type": "execute_result"
    }
   ],
   "source": [
    "disc_inp_data.keys()"
   ]
  },
  {
   "cell_type": "code",
   "execution_count": 124,
   "metadata": {
    "collapsed": false
   },
   "outputs": [],
   "source": [
    "with open(\"relevant_features.txt\") as f:\n",
    "    s = f.read()\n",
    "s = s.split()"
   ]
  },
  {
   "cell_type": "code",
   "execution_count": 125,
   "metadata": {
    "collapsed": false
   },
   "outputs": [
    {
     "data": {
      "text/plain": [
       "['gender',\n",
       " 'age',\n",
       " 'elixhauser',\n",
       " 're_admission',\n",
       " 'Weight_kg',\n",
       " 'GCS',\n",
       " 'HR',\n",
       " 'SysBP',\n",
       " 'MeanBP',\n",
       " 'DiaBP',\n",
       " 'Shock_Index',\n",
       " 'RR',\n",
       " 'SpO2',\n",
       " 'Temp_C',\n",
       " 'FiO2_1',\n",
       " 'Potassium',\n",
       " 'Sodium',\n",
       " 'Chloride',\n",
       " 'Glucose',\n",
       " 'BUN',\n",
       " 'Creatinine',\n",
       " 'Magnesium',\n",
       " 'Calcium',\n",
       " 'Ionised_Ca',\n",
       " 'CO2_mEqL',\n",
       " 'SGOT',\n",
       " 'SGPT',\n",
       " 'Total_bili',\n",
       " 'Albumin',\n",
       " 'Hb',\n",
       " 'WBC_count',\n",
       " 'Platelets_count',\n",
       " 'PTT',\n",
       " 'PT',\n",
       " 'INR',\n",
       " 'Arterial_pH',\n",
       " 'paO2',\n",
       " 'paCO2',\n",
       " 'Arterial_BE',\n",
       " 'Arterial_lactate',\n",
       " 'HCO3',\n",
       " 'PaO2_FiO2',\n",
       " 'mechvent',\n",
       " 'SOFA',\n",
       " 'SIRS',\n",
       " 'output_total',\n",
       " 'output_4hourly',\n",
       " 'cumulated_balance_tev']"
      ]
     },
     "execution_count": 125,
     "metadata": {},
     "output_type": "execute_result"
    }
   ],
   "source": [
    "s"
   ]
  },
  {
   "cell_type": "code",
   "execution_count": 126,
   "metadata": {
    "collapsed": false
   },
   "outputs": [
    {
     "name": "stdout",
     "output_type": "stream",
     "text": [
      "['gender', 'age', 'elixhauser', 're_admission', 'Weight_kg', 'GCS', 'HR', 'SysBP', 'MeanBP', 'DiaBP', 'Shock_Index', 'RR', 'SpO2', 'Temp_C', 'FiO2_1', 'Potassium', 'Sodium', 'Chloride', 'Glucose', 'BUN', 'Creatinine', 'Magnesium', 'Calcium', 'Ionised_Ca', 'CO2_mEqL', 'SGOT', 'SGPT', 'Total_bili', 'Albumin', 'Hb', 'WBC_count', 'Platelets_count', 'PTT', 'PT', 'INR', 'Arterial_pH', 'paO2', 'paCO2', 'Arterial_BE', 'Arterial_lactate', 'HCO3', 'PaO2_FiO2', 'mechvent', 'SOFA', 'SIRS']\n"
     ]
    }
   ],
   "source": [
    "s = s[:-3]\n",
    "print s"
   ]
  },
  {
   "cell_type": "code",
   "execution_count": 127,
   "metadata": {
    "collapsed": true
   },
   "outputs": [],
   "source": [
    "fields_to_normalise =set(s)"
   ]
  },
  {
   "cell_type": "code",
   "execution_count": 128,
   "metadata": {
    "collapsed": true
   },
   "outputs": [],
   "source": [
    "# to remove from normalisation - re_admission, mechvent, gender, shock_index\n",
    "# need to think how to properly normalise SGOT, SGPT"
   ]
  },
  {
   "cell_type": "code",
   "execution_count": 129,
   "metadata": {
    "collapsed": false
   },
   "outputs": [],
   "source": [
    "fields_to_normalise.remove('gender')\n",
    "fields_to_normalise.remove('mechvent')\n",
    "fields_to_normalise.remove('re_admission')\n",
    "fields_to_normalise.remove('Shock_Index')"
   ]
  },
  {
   "cell_type": "code",
   "execution_count": 130,
   "metadata": {
    "collapsed": false
   },
   "outputs": [],
   "source": [
    "for item in fields_to_normalise:\n",
    "    av = disc_inp_data[item].mean()\n",
    "    std = disc_inp_data[item].std()\n",
    "    disc_inp_data[item] = (disc_inp_data[item] - av) / std"
   ]
  },
  {
   "cell_type": "code",
   "execution_count": 131,
   "metadata": {
    "collapsed": true
   },
   "outputs": [],
   "source": [
    "disc_inp_data.to_csv('disc_and_scaled_data.csv')"
   ]
  },
  {
   "cell_type": "code",
   "execution_count": null,
   "metadata": {
    "collapsed": true
   },
   "outputs": [],
   "source": []
  }
 ],
 "metadata": {
  "kernelspec": {
   "display_name": "Python 2",
   "language": "python",
   "name": "python2"
  },
  "language_info": {
   "codemirror_mode": {
    "name": "ipython",
    "version": 2
   },
   "file_extension": ".py",
   "mimetype": "text/x-python",
   "name": "python",
   "nbconvert_exporter": "python",
   "pygments_lexer": "ipython2",
   "version": "2.7.6"
  }
 },
 "nbformat": 4,
 "nbformat_minor": 1
}
