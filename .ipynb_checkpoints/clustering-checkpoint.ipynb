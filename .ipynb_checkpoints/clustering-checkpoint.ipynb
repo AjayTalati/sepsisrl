{
 "cells": [
  {
   "cell_type": "code",
   "execution_count": 9,
   "metadata": {
    "collapsed": true
   },
   "outputs": [],
   "source": [
    "import numpy as np\n",
    "import pandas as pd\n",
    "from pandas import DataFrame\n",
    "from sklearn.cluster import KMeans"
   ]
  },
  {
   "cell_type": "code",
   "execution_count": 2,
   "metadata": {
    "collapsed": true
   },
   "outputs": [],
   "source": [
    "data = pd.read_csv(\"d_s_data_with_rewards.csv\")"
   ]
  },
  {
   "cell_type": "code",
   "execution_count": 3,
   "metadata": {
    "collapsed": false
   },
   "outputs": [
    {
     "name": "stdout",
     "output_type": "stream",
     "text": [
      "Index([u'Unnamed: 0', u'bloc', u'icustayid', u'charttime', u'gender', u'age',\n",
      "       u'elixhauser', u're_admission', u'died_in_hosp', u'mortality_90d',\n",
      "       u'Weight_kg', u'GCS', u'HR', u'SysBP', u'MeanBP', u'DiaBP',\n",
      "       u'Shock_Index', u'RR', u'SpO2', u'Temp_C', u'FiO2_1', u'Potassium',\n",
      "       u'Sodium', u'Chloride', u'Glucose', u'BUN', u'Creatinine', u'Magnesium',\n",
      "       u'Calcium', u'Ionised_Ca', u'CO2_mEqL', u'SGOT', u'SGPT', u'Total_bili',\n",
      "       u'Albumin', u'Hb', u'WBC_count', u'Platelets_count', u'PTT', u'PT',\n",
      "       u'INR', u'Arterial_pH', u'paO2', u'paCO2', u'Arterial_BE',\n",
      "       u'Arterial_lactate', u'HCO3', u'PaO2_FiO2', u'mechvent', u'SOFA',\n",
      "       u'SIRS', u'median_dose_vaso', u'max_dose_vaso', u'input_total_tev',\n",
      "       u'input_4hourly_tev', u'output_total', u'output_4hourly',\n",
      "       u'cumulated_balance_tev', u'reward'],\n",
      "      dtype='object')\n"
     ]
    }
   ],
   "source": [
    "print data.keys()"
   ]
  },
  {
   "cell_type": "code",
   "execution_count": 4,
   "metadata": {
    "collapsed": true
   },
   "outputs": [],
   "source": [
    "del data['Unnamed: 0']"
   ]
  },
  {
   "cell_type": "code",
   "execution_count": 5,
   "metadata": {
    "collapsed": false
   },
   "outputs": [
    {
     "name": "stdout",
     "output_type": "stream",
     "text": [
      "Index([u'bloc', u'icustayid', u'charttime', u'gender', u'age', u'elixhauser',\n",
      "       u're_admission', u'died_in_hosp', u'mortality_90d', u'Weight_kg',\n",
      "       u'GCS', u'HR', u'SysBP', u'MeanBP', u'DiaBP', u'Shock_Index', u'RR',\n",
      "       u'SpO2', u'Temp_C', u'FiO2_1', u'Potassium', u'Sodium', u'Chloride',\n",
      "       u'Glucose', u'BUN', u'Creatinine', u'Magnesium', u'Calcium',\n",
      "       u'Ionised_Ca', u'CO2_mEqL', u'SGOT', u'SGPT', u'Total_bili', u'Albumin',\n",
      "       u'Hb', u'WBC_count', u'Platelets_count', u'PTT', u'PT', u'INR',\n",
      "       u'Arterial_pH', u'paO2', u'paCO2', u'Arterial_BE', u'Arterial_lactate',\n",
      "       u'HCO3', u'PaO2_FiO2', u'mechvent', u'SOFA', u'SIRS',\n",
      "       u'median_dose_vaso', u'max_dose_vaso', u'input_total_tev',\n",
      "       u'input_4hourly_tev', u'output_total', u'output_4hourly',\n",
      "       u'cumulated_balance_tev', u'reward'],\n",
      "      dtype='object')\n"
     ]
    }
   ],
   "source": [
    "print data.keys()"
   ]
  },
  {
   "cell_type": "code",
   "execution_count": 7,
   "metadata": {
    "collapsed": false
   },
   "outputs": [],
   "source": [
    "with open(\"cluster_features.txt\") as f:\n",
    "    feat = f.read()\n",
    "cluster_features = feat.split()"
   ]
  },
  {
   "cell_type": "code",
   "execution_count": 10,
   "metadata": {
    "collapsed": false
   },
   "outputs": [
    {
     "data": {
      "text/plain": [
       "sklearn.cluster.k_means_.KMeans"
      ]
     },
     "execution_count": 10,
     "metadata": {},
     "output_type": "execute_result"
    }
   ],
   "source": [
    "KMeans"
   ]
  },
  {
   "cell_type": "code",
   "execution_count": 14,
   "metadata": {
    "collapsed": false
   },
   "outputs": [],
   "source": [
    "# extract out the features from data\n",
    "cluster_data = data[cluster_features]"
   ]
  },
  {
   "cell_type": "code",
   "execution_count": null,
   "metadata": {
    "collapsed": true
   },
   "outputs": [],
   "source": [
    "kmeans = KMeans(n_clusters=750, random_state=0).fit(cluster_data)"
   ]
  },
  {
   "cell_type": "code",
   "execution_count": null,
   "metadata": {
    "collapsed": true
   },
   "outputs": [],
   "source": [
    "#kmeans.labels_ to get labels\n",
    "# then, construct a new DataFrame with bloc, icustayid, labels_, reward"
   ]
  },
  {
   "cell_type": "code",
   "execution_count": null,
   "metadata": {
    "collapsed": true
   },
   "outputs": [],
   "source": []
  }
 ],
 "metadata": {
  "kernelspec": {
   "display_name": "Python 2",
   "language": "python",
   "name": "python2"
  },
  "language_info": {
   "codemirror_mode": {
    "name": "ipython",
    "version": 2
   },
   "file_extension": ".py",
   "mimetype": "text/x-python",
   "name": "python",
   "nbconvert_exporter": "python",
   "pygments_lexer": "ipython2",
   "version": "2.7.6"
  }
 },
 "nbformat": 4,
 "nbformat_minor": 1
}
