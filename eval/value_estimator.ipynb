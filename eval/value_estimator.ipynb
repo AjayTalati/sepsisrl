{
 "cells": [
  {
   "cell_type": "code",
   "execution_count": 1,
   "metadata": {
    "collapsed": true,
    "deletable": true,
    "editable": true
   },
   "outputs": [],
   "source": [
    "# Implements the Doubly robust value estimator for the learned policies"
   ]
  },
  {
   "cell_type": "code",
   "execution_count": 285,
   "metadata": {
    "collapsed": true,
    "deletable": true,
    "editable": true
   },
   "outputs": [],
   "source": [
    "import pandas as pd\n",
    "import numpy as np\n",
    "import cPickle as pickle"
   ]
  },
  {
   "cell_type": "code",
   "execution_count": 286,
   "metadata": {
    "collapsed": true
   },
   "outputs": [],
   "source": [
    "shaped_reward_df = pd.read_csv('../sepsisrl_test_reward_shape/test_with_rewards.csv')"
   ]
  },
  {
   "cell_type": "code",
   "execution_count": 287,
   "metadata": {
    "collapsed": false,
    "deletable": true,
    "editable": true,
    "scrolled": true
   },
   "outputs": [
    {
     "data": {
      "text/html": [
       "<div>\n",
       "<table border=\"1\" class=\"dataframe\">\n",
       "  <thead>\n",
       "    <tr style=\"text-align: right;\">\n",
       "      <th></th>\n",
       "      <th>Unnamed: 0</th>\n",
       "      <th>bloc</th>\n",
       "      <th>icustayid</th>\n",
       "      <th>state</th>\n",
       "      <th>reward</th>\n",
       "      <th>max_dose_vaso</th>\n",
       "      <th>iv_tev_in</th>\n",
       "      <th>mortality</th>\n",
       "    </tr>\n",
       "  </thead>\n",
       "  <tbody>\n",
       "    <tr>\n",
       "      <th>0</th>\n",
       "      <td>0</td>\n",
       "      <td>1</td>\n",
       "      <td>3</td>\n",
       "      <td>1128</td>\n",
       "      <td>0</td>\n",
       "      <td>0.0</td>\n",
       "      <td>4.0</td>\n",
       "      <td>0</td>\n",
       "    </tr>\n",
       "    <tr>\n",
       "      <th>1</th>\n",
       "      <td>1</td>\n",
       "      <td>2</td>\n",
       "      <td>3</td>\n",
       "      <td>1128</td>\n",
       "      <td>0</td>\n",
       "      <td>0.0</td>\n",
       "      <td>4.0</td>\n",
       "      <td>0</td>\n",
       "    </tr>\n",
       "    <tr>\n",
       "      <th>2</th>\n",
       "      <td>2</td>\n",
       "      <td>3</td>\n",
       "      <td>3</td>\n",
       "      <td>1172</td>\n",
       "      <td>0</td>\n",
       "      <td>0.0</td>\n",
       "      <td>2.0</td>\n",
       "      <td>0</td>\n",
       "    </tr>\n",
       "    <tr>\n",
       "      <th>3</th>\n",
       "      <td>3</td>\n",
       "      <td>4</td>\n",
       "      <td>3</td>\n",
       "      <td>1172</td>\n",
       "      <td>0</td>\n",
       "      <td>0.0</td>\n",
       "      <td>2.0</td>\n",
       "      <td>0</td>\n",
       "    </tr>\n",
       "    <tr>\n",
       "      <th>4</th>\n",
       "      <td>4</td>\n",
       "      <td>5</td>\n",
       "      <td>3</td>\n",
       "      <td>464</td>\n",
       "      <td>0</td>\n",
       "      <td>0.0</td>\n",
       "      <td>2.0</td>\n",
       "      <td>0</td>\n",
       "    </tr>\n",
       "  </tbody>\n",
       "</table>\n",
       "</div>"
      ],
      "text/plain": [
       "   Unnamed: 0  bloc  icustayid  state  reward  max_dose_vaso  iv_tev_in  \\\n",
       "0           0     1          3   1128       0            0.0        4.0   \n",
       "1           1     2          3   1128       0            0.0        4.0   \n",
       "2           2     3          3   1172       0            0.0        2.0   \n",
       "3           3     4          3   1172       0            0.0        2.0   \n",
       "4           4     5          3    464       0            0.0        2.0   \n",
       "\n",
       "   mortality  \n",
       "0          0  \n",
       "1          0  \n",
       "2          0  \n",
       "3          0  \n",
       "4          0  "
      ]
     },
     "execution_count": 287,
     "metadata": {},
     "output_type": "execute_result"
    }
   ],
   "source": [
    "df_train = pd.read_csv('rl_train_data_final.csv')\n",
    "df_train.head()"
   ]
  },
  {
   "cell_type": "code",
   "execution_count": 288,
   "metadata": {
    "collapsed": true,
    "deletable": true,
    "editable": true
   },
   "outputs": [],
   "source": [
    "df_test =pd.read_csv('rl_test_data_final.csv')"
   ]
  },
  {
   "cell_type": "code",
   "execution_count": 289,
   "metadata": {
    "collapsed": true
   },
   "outputs": [],
   "source": [
    "phys_data = pickle.load(open(\"phys_policy.p\", \"rb\" ))"
   ]
  },
  {
   "cell_type": "code",
   "execution_count": 290,
   "metadata": {
    "collapsed": false
   },
   "outputs": [
    {
     "data": {
      "text/html": [
       "<div>\n",
       "<table border=\"1\" class=\"dataframe\">\n",
       "  <thead>\n",
       "    <tr style=\"text-align: right;\">\n",
       "      <th></th>\n",
       "      <th>0</th>\n",
       "      <th>1</th>\n",
       "      <th>2</th>\n",
       "      <th>3</th>\n",
       "      <th>4</th>\n",
       "      <th>5</th>\n",
       "      <th>6</th>\n",
       "      <th>7</th>\n",
       "      <th>8</th>\n",
       "      <th>9</th>\n",
       "      <th>...</th>\n",
       "      <th>20</th>\n",
       "      <th>21</th>\n",
       "      <th>22</th>\n",
       "      <th>23</th>\n",
       "      <th>24</th>\n",
       "      <th>25</th>\n",
       "      <th>26</th>\n",
       "      <th>27</th>\n",
       "      <th>28</th>\n",
       "      <th>29</th>\n",
       "    </tr>\n",
       "  </thead>\n",
       "  <tbody>\n",
       "    <tr>\n",
       "      <th>0</th>\n",
       "      <td>14.0</td>\n",
       "      <td>1.0</td>\n",
       "      <td>4.0</td>\n",
       "      <td>0.0</td>\n",
       "      <td>20.0</td>\n",
       "      <td>0.001133</td>\n",
       "      <td>4.817572e-09</td>\n",
       "      <td>2.745525e-09</td>\n",
       "      <td>8.324157e-10</td>\n",
       "      <td>4.582567e-13</td>\n",
       "      <td>...</td>\n",
       "      <td>0.239332</td>\n",
       "      <td>4.335571e-08</td>\n",
       "      <td>5.368753e-06</td>\n",
       "      <td>1.702110e-09</td>\n",
       "      <td>2.096259e-10</td>\n",
       "      <td>0.299623</td>\n",
       "      <td>1.106430e-07</td>\n",
       "      <td>3.070747e-06</td>\n",
       "      <td>2.124976e-06</td>\n",
       "      <td>9.804121e-06</td>\n",
       "    </tr>\n",
       "    <tr>\n",
       "      <th>1</th>\n",
       "      <td>14.0</td>\n",
       "      <td>2.0</td>\n",
       "      <td>3.0</td>\n",
       "      <td>0.0</td>\n",
       "      <td>15.0</td>\n",
       "      <td>0.003760</td>\n",
       "      <td>7.312874e-09</td>\n",
       "      <td>8.960193e-09</td>\n",
       "      <td>1.365068e-09</td>\n",
       "      <td>1.747765e-11</td>\n",
       "      <td>...</td>\n",
       "      <td>0.436484</td>\n",
       "      <td>7.530244e-09</td>\n",
       "      <td>4.418755e-07</td>\n",
       "      <td>9.701403e-10</td>\n",
       "      <td>3.632597e-10</td>\n",
       "      <td>0.163057</td>\n",
       "      <td>4.214060e-08</td>\n",
       "      <td>4.274639e-07</td>\n",
       "      <td>8.589486e-08</td>\n",
       "      <td>3.796162e-06</td>\n",
       "    </tr>\n",
       "    <tr>\n",
       "      <th>2</th>\n",
       "      <td>14.0</td>\n",
       "      <td>3.0</td>\n",
       "      <td>3.0</td>\n",
       "      <td>0.0</td>\n",
       "      <td>15.0</td>\n",
       "      <td>0.000829</td>\n",
       "      <td>1.082430e-07</td>\n",
       "      <td>8.162170e-09</td>\n",
       "      <td>1.298296e-09</td>\n",
       "      <td>7.458415e-11</td>\n",
       "      <td>...</td>\n",
       "      <td>0.237408</td>\n",
       "      <td>5.900292e-08</td>\n",
       "      <td>6.229191e-07</td>\n",
       "      <td>2.191570e-09</td>\n",
       "      <td>1.585154e-10</td>\n",
       "      <td>0.415724</td>\n",
       "      <td>9.835096e-07</td>\n",
       "      <td>1.030690e-06</td>\n",
       "      <td>1.291592e-07</td>\n",
       "      <td>2.353789e-07</td>\n",
       "    </tr>\n",
       "    <tr>\n",
       "      <th>3</th>\n",
       "      <td>14.0</td>\n",
       "      <td>4.0</td>\n",
       "      <td>2.0</td>\n",
       "      <td>0.0</td>\n",
       "      <td>10.0</td>\n",
       "      <td>0.001118</td>\n",
       "      <td>6.395420e-08</td>\n",
       "      <td>1.997361e-08</td>\n",
       "      <td>4.802769e-10</td>\n",
       "      <td>1.819435e-10</td>\n",
       "      <td>...</td>\n",
       "      <td>0.500454</td>\n",
       "      <td>1.379003e-07</td>\n",
       "      <td>6.040940e-07</td>\n",
       "      <td>1.911497e-09</td>\n",
       "      <td>2.186019e-09</td>\n",
       "      <td>0.158869</td>\n",
       "      <td>8.406097e-07</td>\n",
       "      <td>3.160200e-07</td>\n",
       "      <td>6.267963e-09</td>\n",
       "      <td>3.789125e-08</td>\n",
       "    </tr>\n",
       "    <tr>\n",
       "      <th>4</th>\n",
       "      <td>14.0</td>\n",
       "      <td>5.0</td>\n",
       "      <td>0.0</td>\n",
       "      <td>0.0</td>\n",
       "      <td>0.0</td>\n",
       "      <td>0.575546</td>\n",
       "      <td>3.755423e-08</td>\n",
       "      <td>9.059047e-06</td>\n",
       "      <td>2.401201e-09</td>\n",
       "      <td>5.102324e-09</td>\n",
       "      <td>...</td>\n",
       "      <td>0.016134</td>\n",
       "      <td>1.618260e-05</td>\n",
       "      <td>6.457800e-06</td>\n",
       "      <td>8.623400e-07</td>\n",
       "      <td>5.999016e-06</td>\n",
       "      <td>0.017737</td>\n",
       "      <td>4.673912e-05</td>\n",
       "      <td>5.967060e-05</td>\n",
       "      <td>1.357733e-06</td>\n",
       "      <td>1.167808e-05</td>\n",
       "    </tr>\n",
       "  </tbody>\n",
       "</table>\n",
       "<p>5 rows × 30 columns</p>\n",
       "</div>"
      ],
      "text/plain": [
       "     0    1    2    3     4         5             6             7   \\\n",
       "0  14.0  1.0  4.0  0.0  20.0  0.001133  4.817572e-09  2.745525e-09   \n",
       "1  14.0  2.0  3.0  0.0  15.0  0.003760  7.312874e-09  8.960193e-09   \n",
       "2  14.0  3.0  3.0  0.0  15.0  0.000829  1.082430e-07  8.162170e-09   \n",
       "3  14.0  4.0  2.0  0.0  10.0  0.001118  6.395420e-08  1.997361e-08   \n",
       "4  14.0  5.0  0.0  0.0   0.0  0.575546  3.755423e-08  9.059047e-06   \n",
       "\n",
       "             8             9       ...             20            21  \\\n",
       "0  8.324157e-10  4.582567e-13      ...       0.239332  4.335571e-08   \n",
       "1  1.365068e-09  1.747765e-11      ...       0.436484  7.530244e-09   \n",
       "2  1.298296e-09  7.458415e-11      ...       0.237408  5.900292e-08   \n",
       "3  4.802769e-10  1.819435e-10      ...       0.500454  1.379003e-07   \n",
       "4  2.401201e-09  5.102324e-09      ...       0.016134  1.618260e-05   \n",
       "\n",
       "             22            23            24        25            26  \\\n",
       "0  5.368753e-06  1.702110e-09  2.096259e-10  0.299623  1.106430e-07   \n",
       "1  4.418755e-07  9.701403e-10  3.632597e-10  0.163057  4.214060e-08   \n",
       "2  6.229191e-07  2.191570e-09  1.585154e-10  0.415724  9.835096e-07   \n",
       "3  6.040940e-07  1.911497e-09  2.186019e-09  0.158869  8.406097e-07   \n",
       "4  6.457800e-06  8.623400e-07  5.999016e-06  0.017737  4.673912e-05   \n",
       "\n",
       "             27            28            29  \n",
       "0  3.070747e-06  2.124976e-06  9.804121e-06  \n",
       "1  4.274639e-07  8.589486e-08  3.796162e-06  \n",
       "2  1.030690e-06  1.291592e-07  2.353789e-07  \n",
       "3  3.160200e-07  6.267963e-09  3.789125e-08  \n",
       "4  5.967060e-05  1.357733e-06  1.167808e-05  \n",
       "\n",
       "[5 rows x 30 columns]"
      ]
     },
     "execution_count": 290,
     "metadata": {},
     "output_type": "execute_result"
    }
   ],
   "source": [
    "pd.DataFrame(phys_data).head()"
   ]
  },
  {
   "cell_type": "code",
   "execution_count": 291,
   "metadata": {
    "collapsed": false
   },
   "outputs": [],
   "source": [
    "indices = phys_data[:,4].astype(int) + 5\n",
    "phys_action_probs = phys_data[range(len(phys_data)),indices]"
   ]
  },
  {
   "cell_type": "code",
   "execution_count": 292,
   "metadata": {
    "collapsed": true,
    "deletable": true,
    "editable": true
   },
   "outputs": [],
   "source": [
    "# Two cells below - load the actions and q values associated with the agent policy - these are outputted by\n",
    "# eg the neural network."
   ]
  },
  {
   "cell_type": "code",
   "execution_count": 334,
   "metadata": {
    "collapsed": false,
    "deletable": true,
    "editable": true
   },
   "outputs": [],
   "source": [
    "agent_actions = pickle.load(open(\"../sepsis_deeprl2/deeprl_actions_s897_2.p\", \"rb\" ))"
   ]
  },
  {
   "cell_type": "code",
   "execution_count": 335,
   "metadata": {
    "collapsed": true,
    "deletable": true,
    "editable": true
   },
   "outputs": [],
   "source": [
    "agent_q = pickle.load(open(\"../sepsis_deeprl2/deeprl_qvals_s897_2.p\", \"rb\" ))"
   ]
  },
  {
   "cell_type": "code",
   "execution_count": 336,
   "metadata": {
    "collapsed": true,
    "deletable": true,
    "editable": true
   },
   "outputs": [],
   "source": [
    "# add the actions and q values associated with agent performance on the test set to the dataframe"
   ]
  },
  {
   "cell_type": "code",
   "execution_count": 337,
   "metadata": {
    "collapsed": false,
    "deletable": true,
    "editable": true
   },
   "outputs": [],
   "source": [
    "df_test['agent_action'] = np.array(agent_actions)"
   ]
  },
  {
   "cell_type": "code",
   "execution_count": 338,
   "metadata": {
    "collapsed": true,
    "deletable": true,
    "editable": true
   },
   "outputs": [],
   "source": [
    "df_test['agent_q'] = np.array(agent_q)"
   ]
  },
  {
   "cell_type": "code",
   "execution_count": 339,
   "metadata": {
    "collapsed": true
   },
   "outputs": [],
   "source": [
    "df_test['phys_prob'] = phys_action_probs"
   ]
  },
  {
   "cell_type": "code",
   "execution_count": 340,
   "metadata": {
    "collapsed": true,
    "deletable": true,
    "editable": true
   },
   "outputs": [],
   "source": [
    "# # this represents the physician distribution, learned by averaging counts on the training set\n",
    "# pi_phys = np.ones(shape=(1250,25))"
   ]
  },
  {
   "cell_type": "code",
   "execution_count": 341,
   "metadata": {
    "collapsed": true,
    "deletable": true,
    "editable": true
   },
   "outputs": [],
   "source": [
    "action_map = {}\n",
    "count = 0\n",
    "for iv in range(5):\n",
    "    for vaso in range(5):\n",
    "        action_map[(iv,vaso)] = count\n",
    "        count += 1"
   ]
  },
  {
   "cell_type": "code",
   "execution_count": 342,
   "metadata": {
    "collapsed": false,
    "deletable": true,
    "editable": true
   },
   "outputs": [],
   "source": [
    "# # calculate physician policy distribution\n",
    "# for i in df_train.index:\n",
    "#     state = df_train.ix[i,'state']\n",
    "#     iv = df_train.ix[i,'iv_tev_in']\n",
    "#     vaso = df_train.ix[i, 'max_dose_vaso']\n",
    "#     action = action_map[(iv,vaso)]\n",
    "#     pi_phys[state,action] += 1.0\n",
    "\n",
    "# for row in range(pi_phys.shape[0]):\n",
    "#     total = np.sum(pi_phys[row])\n",
    "#     pi_phys[row] /= float(total)"
   ]
  },
  {
   "cell_type": "code",
   "execution_count": 343,
   "metadata": {
    "collapsed": true
   },
   "outputs": [],
   "source": [
    "df_test['reward'] = shaped_reward_df['reward']"
   ]
  },
  {
   "cell_type": "code",
   "execution_count": 344,
   "metadata": {
    "collapsed": true,
    "deletable": true,
    "editable": true
   },
   "outputs": [],
   "source": [
    "unique_ids = df_test['icustayid'].unique()"
   ]
  },
  {
   "cell_type": "code",
   "execution_count": 345,
   "metadata": {
    "collapsed": false,
    "deletable": true,
    "editable": true,
    "scrolled": true
   },
   "outputs": [],
   "source": [
    "values = []\n",
    "gamma = 1\n",
    "for uid in unique_ids:\n",
    "#     if uid != 8298: continue\n",
    "#     if uid in bad_uids:\n",
    "#         continue\n",
    "    trajectory = df_test.loc[df_test['icustayid'] == uid]\n",
    "    cur_val = 0\n",
    "    reversed_traj = trajectory.iloc[::-1]\n",
    "    t = len(reversed_traj)\n",
    "    for row in reversed_traj.index:\n",
    "        state = df_test.ix[row,'state']\n",
    "        \n",
    "        iv = df_test.ix[row,'iv_tev_in']\n",
    "        vaso = df_test.ix[row, 'max_dose_vaso']\n",
    "        phys_action = action_map[(iv,vaso)]\n",
    "        phys_prob = df_test.ix[row,'phys_prob']\n",
    "        \n",
    "#         phys_prob = pi_phys[state,phys_action]\n",
    "        \n",
    "        agent_action = reversed_traj.ix[row,'agent_action']\n",
    "#         agent_action = phys_action\n",
    "        agent_val = reversed_traj.ix[row, 'agent_q']\n",
    "        \n",
    "        reward = reversed_traj.ix[row, 'reward']\n",
    "#         if reward > 15:\n",
    "#             reward = 15\n",
    "#         elif reward < -15:\n",
    "#             reward = -15\n",
    "        \n",
    "#         rho = 1.0\n",
    "        if agent_action == phys_action:\n",
    "            rho = 1.0/phys_prob\n",
    "        else:\n",
    "            rho = 0\n",
    "        \n",
    "#         # Debug related things below\n",
    "#         print \"row \", row\n",
    "#         print \"phys_prob \", phys_prob\n",
    "#         print \"state\", state\n",
    "#         print \"actions \", agent_action, phys_action\n",
    "#         print \"agent val \", agent_val\n",
    "#         print \"cur val before update  \", cur_val\n",
    "        \n",
    "        \n",
    "        cur_val = agent_val + rho*(reward + gamma*cur_val - agent_val)\n",
    "        t -= 1\n",
    "    \n",
    "#        ~ More debugging below\n",
    "#         print \"cur val after update  \", cur_val\n",
    "#         print \"rho \", rho\n",
    "#         print \"reward \", reward\n",
    "\n",
    "    assert (t == 0)\n",
    "\n",
    "#     if abs(cur_val) > 1000:\n",
    "#         print uid\n",
    "#         bad_uids.append(uid)\n",
    "    values.append(cur_val)"
   ]
  },
  {
   "cell_type": "code",
   "execution_count": 346,
   "metadata": {
    "collapsed": false,
    "deletable": true,
    "editable": true,
    "scrolled": true
   },
   "outputs": [
    {
     "data": {
      "text/plain": [
       "3580"
      ]
     },
     "execution_count": 346,
     "metadata": {},
     "output_type": "execute_result"
    }
   ],
   "source": [
    "len(values)"
   ]
  },
  {
   "cell_type": "code",
   "execution_count": 347,
   "metadata": {
    "collapsed": false,
    "deletable": true,
    "editable": true
   },
   "outputs": [],
   "source": [
    "values = pd.Series(values)\n",
    "values = (values[(values >= -15) & (values <= 15)])"
   ]
  },
  {
   "cell_type": "code",
   "execution_count": 348,
   "metadata": {
    "collapsed": false,
    "deletable": true,
    "editable": true,
    "scrolled": true
   },
   "outputs": [
    {
     "data": {
      "text/plain": [
       "3443"
      ]
     },
     "execution_count": 348,
     "metadata": {},
     "output_type": "execute_result"
    }
   ],
   "source": [
    "len(values)"
   ]
  },
  {
   "cell_type": "code",
   "execution_count": 349,
   "metadata": {
    "collapsed": false,
    "deletable": true,
    "editable": true
   },
   "outputs": [
    {
     "data": {
      "text/plain": [
       "9.7414900121408685"
      ]
     },
     "execution_count": 349,
     "metadata": {},
     "output_type": "execute_result"
    }
   ],
   "source": [
    "np.mean(values)"
   ]
  },
  {
   "cell_type": "code",
   "execution_count": 310,
   "metadata": {
    "collapsed": false,
    "scrolled": false
   },
   "outputs": [],
   "source": [
    "# # for use when rewards are sparse and also +-100 instead of +-15\n",
    "# df_test.loc[df_test['reward'] == 100,'reward'] = 15\n",
    "# df_test.loc[df_test['reward'] == -100,'reward'] = -15"
   ]
  },
  {
   "cell_type": "code",
   "execution_count": 312,
   "metadata": {
    "collapsed": false
   },
   "outputs": [
    {
     "data": {
      "text/plain": [
       "11.170391061452515"
      ]
     },
     "execution_count": 312,
     "metadata": {},
     "output_type": "execute_result"
    }
   ],
   "source": [
    "# #  The code here evaluates the expected return under the physician policy\n",
    "# phys_vals = []\n",
    "# for uid in unique_ids:\n",
    "#     traj = df_test.loc[df_test['icustayid'] == uid]\n",
    "#     phys_vals.append(sum(traj['reward']))\n",
    "# np.mean(phys_vals)"
   ]
  },
  {
   "cell_type": "code",
   "execution_count": null,
   "metadata": {
    "collapsed": true
   },
   "outputs": [],
   "source": []
  }
 ],
 "metadata": {
  "kernelspec": {
   "display_name": "Python 2",
   "language": "python",
   "name": "python2"
  },
  "language_info": {
   "codemirror_mode": {
    "name": "ipython",
    "version": 2
   },
   "file_extension": ".py",
   "mimetype": "text/x-python",
   "name": "python",
   "nbconvert_exporter": "python",
   "pygments_lexer": "ipython2",
   "version": "2.7.6"
  }
 },
 "nbformat": 4,
 "nbformat_minor": 2
}
