{
 "cells": [
  {
   "cell_type": "code",
   "execution_count": 235,
   "metadata": {
    "collapsed": true,
    "deletable": true,
    "editable": true
   },
   "outputs": [],
   "source": [
    "# Make relevant plots of:\n",
    "#  - Policies (as histogram)\n",
    "#  - Policies (as bar chart)\n",
    "#  - Diff in dose vs observed mortality for diff policies"
   ]
  },
  {
   "cell_type": "code",
   "execution_count": 236,
   "metadata": {
    "collapsed": true,
    "deletable": true,
    "editable": true
   },
   "outputs": [],
   "source": [
    "%matplotlib inline\n",
    "import pandas as pd\n",
    "import numpy as np\n",
    "import cPickle as pickle\n",
    "import matplotlib.pyplot as plt"
   ]
  },
  {
   "cell_type": "code",
   "execution_count": null,
   "metadata": {
    "collapsed": true
   },
   "outputs": [],
   "source": [
    "df_train.to_csv('../data/rl_train_data_final_cont.csv',index=False)\n",
    "df_val.to_csv('../data/rl_val_data_final_cont.csv', index=False)\n",
    "df_test.to_csv('../data/rl_test_data_final_cont.csv',index=False)"
   ]
  },
  {
   "cell_type": "code",
   "execution_count": 237,
   "metadata": {
    "collapsed": true,
    "deletable": true,
    "editable": true
   },
   "outputs": [],
   "source": [
    "df_orig = pd.read_csv('../data/MKdataset07Feb17.csv')"
   ]
  },
  {
   "cell_type": "code",
   "execution_count": null,
   "metadata": {
    "collapsed": true
   },
   "outputs": [],
   "source": [
    "df_train = pd.read_csv('../data/rl_train_data_final_cont.csv')"
   ]
  },
  {
   "cell_type": "code",
   "execution_count": 238,
   "metadata": {
    "collapsed": true,
    "deletable": true,
    "editable": true
   },
   "outputs": [],
   "source": [
    "df_test = pd.read_csv('../data/rl_test_data_final.csv')"
   ]
  },
  {
   "cell_type": "code",
   "execution_count": null,
   "metadata": {
    "collapsed": true
   },
   "outputs": [],
   "source": [
    "df_train_orig = df_orig[df_orig['icustayid'].isin(df_train['icustayid'].unique())]"
   ]
  },
  {
   "cell_type": "code",
   "execution_count": 239,
   "metadata": {
    "collapsed": false,
    "deletable": true,
    "editable": true
   },
   "outputs": [],
   "source": [
    "df_test_orig = df_orig[df_orig['icustayid'].isin(df_test['icustayid'].unique())]"
   ]
  },
  {
   "cell_type": "code",
   "execution_count": 240,
   "metadata": {
    "collapsed": true,
    "deletable": true,
    "editable": true
   },
   "outputs": [],
   "source": [
    "#  next two cells - check that the extracted trajectories are ok"
   ]
  },
  {
   "cell_type": "code",
   "execution_count": 241,
   "metadata": {
    "collapsed": false,
    "deletable": true,
    "editable": true
   },
   "outputs": [
    {
     "data": {
      "text/plain": [
       "True"
      ]
     },
     "execution_count": 241,
     "metadata": {},
     "output_type": "execute_result"
    }
   ],
   "source": [
    "len(df_test) == len(df_test_orig)"
   ]
  },
  {
   "cell_type": "code",
   "execution_count": 242,
   "metadata": {
    "collapsed": false,
    "deletable": true,
    "editable": true,
    "scrolled": true
   },
   "outputs": [
    {
     "data": {
      "text/plain": [
       "False"
      ]
     },
     "execution_count": 242,
     "metadata": {},
     "output_type": "execute_result"
    }
   ],
   "source": [
    "False in np.array(df_test['icustayid']) == np.array(df_test_orig['icustayid'])"
   ]
  },
  {
   "cell_type": "code",
   "execution_count": 243,
   "metadata": {
    "collapsed": false,
    "deletable": true,
    "editable": true
   },
   "outputs": [
    {
     "data": {
      "text/html": [
       "<div>\n",
       "<table border=\"1\" class=\"dataframe\">\n",
       "  <thead>\n",
       "    <tr style=\"text-align: right;\">\n",
       "      <th></th>\n",
       "      <th>Unnamed: 0</th>\n",
       "      <th>Unnamed: 0.1</th>\n",
       "      <th>Unnamed: 0.1.1</th>\n",
       "      <th>Unnamed: 0.1.1</th>\n",
       "      <th>bloc</th>\n",
       "      <th>icustayid</th>\n",
       "      <th>charttime</th>\n",
       "      <th>gender</th>\n",
       "      <th>age</th>\n",
       "      <th>elixhauser</th>\n",
       "      <th>...</th>\n",
       "      <th>max_dose_vaso</th>\n",
       "      <th>input_total_tev</th>\n",
       "      <th>input_4hourly_tev</th>\n",
       "      <th>output_total</th>\n",
       "      <th>output_4hourly</th>\n",
       "      <th>cumulated_balance_tev</th>\n",
       "      <th>vaso_input</th>\n",
       "      <th>iv_input</th>\n",
       "      <th>reward</th>\n",
       "      <th>actual_action</th>\n",
       "    </tr>\n",
       "  </thead>\n",
       "  <tbody>\n",
       "    <tr>\n",
       "      <th>0</th>\n",
       "      <td>0</td>\n",
       "      <td>0</td>\n",
       "      <td>14</td>\n",
       "      <td>14</td>\n",
       "      <td>1</td>\n",
       "      <td>14</td>\n",
       "      <td>4264269300</td>\n",
       "      <td>-0.5</td>\n",
       "      <td>1.190578</td>\n",
       "      <td>-0.875816</td>\n",
       "      <td>...</td>\n",
       "      <td>-0.379552</td>\n",
       "      <td>-0.273577</td>\n",
       "      <td>1.112914</td>\n",
       "      <td>-0.260681</td>\n",
       "      <td>0.309985</td>\n",
       "      <td>-0.251550</td>\n",
       "      <td>0.0</td>\n",
       "      <td>4.0</td>\n",
       "      <td>0</td>\n",
       "      <td>20</td>\n",
       "    </tr>\n",
       "    <tr>\n",
       "      <th>1</th>\n",
       "      <td>1</td>\n",
       "      <td>1</td>\n",
       "      <td>15</td>\n",
       "      <td>15</td>\n",
       "      <td>2</td>\n",
       "      <td>14</td>\n",
       "      <td>4264283700</td>\n",
       "      <td>-0.5</td>\n",
       "      <td>1.190578</td>\n",
       "      <td>-0.875816</td>\n",
       "      <td>...</td>\n",
       "      <td>-0.379552</td>\n",
       "      <td>-0.183027</td>\n",
       "      <td>0.698303</td>\n",
       "      <td>-0.094558</td>\n",
       "      <td>0.443790</td>\n",
       "      <td>-0.240439</td>\n",
       "      <td>0.0</td>\n",
       "      <td>3.0</td>\n",
       "      <td>0</td>\n",
       "      <td>15</td>\n",
       "    </tr>\n",
       "    <tr>\n",
       "      <th>2</th>\n",
       "      <td>2</td>\n",
       "      <td>2</td>\n",
       "      <td>16</td>\n",
       "      <td>16</td>\n",
       "      <td>3</td>\n",
       "      <td>14</td>\n",
       "      <td>4264298100</td>\n",
       "      <td>-0.5</td>\n",
       "      <td>1.190578</td>\n",
       "      <td>-0.875816</td>\n",
       "      <td>...</td>\n",
       "      <td>-0.379552</td>\n",
       "      <td>-0.108854</td>\n",
       "      <td>0.698303</td>\n",
       "      <td>-0.001038</td>\n",
       "      <td>0.393879</td>\n",
       "      <td>-0.223993</td>\n",
       "      <td>0.0</td>\n",
       "      <td>3.0</td>\n",
       "      <td>0</td>\n",
       "      <td>15</td>\n",
       "    </tr>\n",
       "    <tr>\n",
       "      <th>3</th>\n",
       "      <td>3</td>\n",
       "      <td>3</td>\n",
       "      <td>17</td>\n",
       "      <td>17</td>\n",
       "      <td>4</td>\n",
       "      <td>14</td>\n",
       "      <td>4264312500</td>\n",
       "      <td>-0.5</td>\n",
       "      <td>1.190578</td>\n",
       "      <td>-0.875816</td>\n",
       "      <td>...</td>\n",
       "      <td>-0.379552</td>\n",
       "      <td>-0.076245</td>\n",
       "      <td>0.493349</td>\n",
       "      <td>0.033562</td>\n",
       "      <td>0.146330</td>\n",
       "      <td>-0.214363</td>\n",
       "      <td>0.0</td>\n",
       "      <td>2.0</td>\n",
       "      <td>0</td>\n",
       "      <td>10</td>\n",
       "    </tr>\n",
       "    <tr>\n",
       "      <th>4</th>\n",
       "      <td>4</td>\n",
       "      <td>4</td>\n",
       "      <td>18</td>\n",
       "      <td>18</td>\n",
       "      <td>5</td>\n",
       "      <td>14</td>\n",
       "      <td>4264326900</td>\n",
       "      <td>-0.5</td>\n",
       "      <td>1.190578</td>\n",
       "      <td>-0.875816</td>\n",
       "      <td>...</td>\n",
       "      <td>-0.379552</td>\n",
       "      <td>-0.076245</td>\n",
       "      <td>-1.689325</td>\n",
       "      <td>0.033562</td>\n",
       "      <td>-2.008267</td>\n",
       "      <td>-0.214363</td>\n",
       "      <td>0.0</td>\n",
       "      <td>0.0</td>\n",
       "      <td>0</td>\n",
       "      <td>0</td>\n",
       "    </tr>\n",
       "  </tbody>\n",
       "</table>\n",
       "<p>5 rows × 65 columns</p>\n",
       "</div>"
      ],
      "text/plain": [
       "   Unnamed: 0  Unnamed: 0.1  Unnamed: 0.1.1  Unnamed: 0.1.1  bloc  icustayid  \\\n",
       "0           0             0              14              14     1         14   \n",
       "1           1             1              15              15     2         14   \n",
       "2           2             2              16              16     3         14   \n",
       "3           3             3              17              17     4         14   \n",
       "4           4             4              18              18     5         14   \n",
       "\n",
       "    charttime  gender       age  elixhauser      ...        max_dose_vaso  \\\n",
       "0  4264269300    -0.5  1.190578   -0.875816      ...            -0.379552   \n",
       "1  4264283700    -0.5  1.190578   -0.875816      ...            -0.379552   \n",
       "2  4264298100    -0.5  1.190578   -0.875816      ...            -0.379552   \n",
       "3  4264312500    -0.5  1.190578   -0.875816      ...            -0.379552   \n",
       "4  4264326900    -0.5  1.190578   -0.875816      ...            -0.379552   \n",
       "\n",
       "   input_total_tev  input_4hourly_tev  output_total  output_4hourly  \\\n",
       "0        -0.273577           1.112914     -0.260681        0.309985   \n",
       "1        -0.183027           0.698303     -0.094558        0.443790   \n",
       "2        -0.108854           0.698303     -0.001038        0.393879   \n",
       "3        -0.076245           0.493349      0.033562        0.146330   \n",
       "4        -0.076245          -1.689325      0.033562       -2.008267   \n",
       "\n",
       "   cumulated_balance_tev  vaso_input  iv_input  reward  actual_action  \n",
       "0              -0.251550         0.0       4.0       0             20  \n",
       "1              -0.240439         0.0       3.0       0             15  \n",
       "2              -0.223993         0.0       3.0       0             15  \n",
       "3              -0.214363         0.0       2.0       0             10  \n",
       "4              -0.214363         0.0       0.0       0              0  \n",
       "\n",
       "[5 rows x 65 columns]"
      ]
     },
     "execution_count": 243,
     "metadata": {},
     "output_type": "execute_result"
    }
   ],
   "source": [
    "df_test.head()"
   ]
  },
  {
   "cell_type": "code",
   "execution_count": 244,
   "metadata": {
    "collapsed": false,
    "deletable": true,
    "editable": true
   },
   "outputs": [
    {
     "data": {
      "text/html": [
       "<div>\n",
       "<table border=\"1\" class=\"dataframe\">\n",
       "  <thead>\n",
       "    <tr style=\"text-align: right;\">\n",
       "      <th></th>\n",
       "      <th>bloc</th>\n",
       "      <th>icustayid</th>\n",
       "      <th>charttime</th>\n",
       "      <th>gender</th>\n",
       "      <th>age</th>\n",
       "      <th>elixhauser</th>\n",
       "      <th>re_admission</th>\n",
       "      <th>died_in_hosp</th>\n",
       "      <th>mortality_90d</th>\n",
       "      <th>Weight_kg</th>\n",
       "      <th>...</th>\n",
       "      <th>mechvent</th>\n",
       "      <th>SOFA</th>\n",
       "      <th>SIRS</th>\n",
       "      <th>median_dose_vaso</th>\n",
       "      <th>max_dose_vaso</th>\n",
       "      <th>input_total_tev</th>\n",
       "      <th>input_4hourly_tev</th>\n",
       "      <th>output_total</th>\n",
       "      <th>output_4hourly</th>\n",
       "      <th>cumulated_balance_tev</th>\n",
       "    </tr>\n",
       "  </thead>\n",
       "  <tbody>\n",
       "    <tr>\n",
       "      <th>14</th>\n",
       "      <td>1</td>\n",
       "      <td>14</td>\n",
       "      <td>4264269300</td>\n",
       "      <td>0</td>\n",
       "      <td>30946.97</td>\n",
       "      <td>2.0</td>\n",
       "      <td>0</td>\n",
       "      <td>0</td>\n",
       "      <td>1</td>\n",
       "      <td>56.872728</td>\n",
       "      <td>...</td>\n",
       "      <td>1</td>\n",
       "      <td>5</td>\n",
       "      <td>2</td>\n",
       "      <td>0.0</td>\n",
       "      <td>0.0</td>\n",
       "      <td>1300.0</td>\n",
       "      <td>1300.0</td>\n",
       "      <td>340.0</td>\n",
       "      <td>160.0</td>\n",
       "      <td>960.0</td>\n",
       "    </tr>\n",
       "    <tr>\n",
       "      <th>15</th>\n",
       "      <td>2</td>\n",
       "      <td>14</td>\n",
       "      <td>4264283700</td>\n",
       "      <td>0</td>\n",
       "      <td>30946.97</td>\n",
       "      <td>2.0</td>\n",
       "      <td>0</td>\n",
       "      <td>0</td>\n",
       "      <td>1</td>\n",
       "      <td>62.545455</td>\n",
       "      <td>...</td>\n",
       "      <td>1</td>\n",
       "      <td>4</td>\n",
       "      <td>1</td>\n",
       "      <td>0.0</td>\n",
       "      <td>0.0</td>\n",
       "      <td>1620.0</td>\n",
       "      <td>320.0</td>\n",
       "      <td>585.0</td>\n",
       "      <td>245.0</td>\n",
       "      <td>1035.0</td>\n",
       "    </tr>\n",
       "    <tr>\n",
       "      <th>16</th>\n",
       "      <td>3</td>\n",
       "      <td>14</td>\n",
       "      <td>4264298100</td>\n",
       "      <td>0</td>\n",
       "      <td>30946.97</td>\n",
       "      <td>2.0</td>\n",
       "      <td>0</td>\n",
       "      <td>0</td>\n",
       "      <td>1</td>\n",
       "      <td>68.218182</td>\n",
       "      <td>...</td>\n",
       "      <td>1</td>\n",
       "      <td>4</td>\n",
       "      <td>1</td>\n",
       "      <td>0.0</td>\n",
       "      <td>0.0</td>\n",
       "      <td>1940.0</td>\n",
       "      <td>320.0</td>\n",
       "      <td>794.0</td>\n",
       "      <td>209.0</td>\n",
       "      <td>1146.0</td>\n",
       "    </tr>\n",
       "    <tr>\n",
       "      <th>17</th>\n",
       "      <td>4</td>\n",
       "      <td>14</td>\n",
       "      <td>4264312500</td>\n",
       "      <td>0</td>\n",
       "      <td>30946.97</td>\n",
       "      <td>2.0</td>\n",
       "      <td>0</td>\n",
       "      <td>0</td>\n",
       "      <td>1</td>\n",
       "      <td>73.890909</td>\n",
       "      <td>...</td>\n",
       "      <td>1</td>\n",
       "      <td>4</td>\n",
       "      <td>1</td>\n",
       "      <td>0.0</td>\n",
       "      <td>0.0</td>\n",
       "      <td>2100.0</td>\n",
       "      <td>160.0</td>\n",
       "      <td>889.0</td>\n",
       "      <td>95.0</td>\n",
       "      <td>1211.0</td>\n",
       "    </tr>\n",
       "    <tr>\n",
       "      <th>18</th>\n",
       "      <td>5</td>\n",
       "      <td>14</td>\n",
       "      <td>4264326900</td>\n",
       "      <td>0</td>\n",
       "      <td>30946.97</td>\n",
       "      <td>2.0</td>\n",
       "      <td>0</td>\n",
       "      <td>0</td>\n",
       "      <td>1</td>\n",
       "      <td>79.563636</td>\n",
       "      <td>...</td>\n",
       "      <td>1</td>\n",
       "      <td>9</td>\n",
       "      <td>2</td>\n",
       "      <td>0.0</td>\n",
       "      <td>0.0</td>\n",
       "      <td>2100.0</td>\n",
       "      <td>0.0</td>\n",
       "      <td>889.0</td>\n",
       "      <td>0.0</td>\n",
       "      <td>1211.0</td>\n",
       "    </tr>\n",
       "  </tbody>\n",
       "</table>\n",
       "<p>5 rows × 57 columns</p>\n",
       "</div>"
      ],
      "text/plain": [
       "    bloc  icustayid   charttime  gender       age  elixhauser  re_admission  \\\n",
       "14     1         14  4264269300       0  30946.97         2.0             0   \n",
       "15     2         14  4264283700       0  30946.97         2.0             0   \n",
       "16     3         14  4264298100       0  30946.97         2.0             0   \n",
       "17     4         14  4264312500       0  30946.97         2.0             0   \n",
       "18     5         14  4264326900       0  30946.97         2.0             0   \n",
       "\n",
       "    died_in_hosp  mortality_90d  Weight_kg          ...            mechvent  \\\n",
       "14             0              1  56.872728          ...                   1   \n",
       "15             0              1  62.545455          ...                   1   \n",
       "16             0              1  68.218182          ...                   1   \n",
       "17             0              1  73.890909          ...                   1   \n",
       "18             0              1  79.563636          ...                   1   \n",
       "\n",
       "    SOFA  SIRS  median_dose_vaso  max_dose_vaso  input_total_tev  \\\n",
       "14     5     2               0.0            0.0           1300.0   \n",
       "15     4     1               0.0            0.0           1620.0   \n",
       "16     4     1               0.0            0.0           1940.0   \n",
       "17     4     1               0.0            0.0           2100.0   \n",
       "18     9     2               0.0            0.0           2100.0   \n",
       "\n",
       "    input_4hourly_tev  output_total  output_4hourly  cumulated_balance_tev  \n",
       "14             1300.0         340.0           160.0                  960.0  \n",
       "15              320.0         585.0           245.0                 1035.0  \n",
       "16              320.0         794.0           209.0                 1146.0  \n",
       "17              160.0         889.0            95.0                 1211.0  \n",
       "18                0.0         889.0             0.0                 1211.0  \n",
       "\n",
       "[5 rows x 57 columns]"
      ]
     },
     "execution_count": 244,
     "metadata": {},
     "output_type": "execute_result"
    }
   ],
   "source": [
    "df_test_orig.head()"
   ]
  },
  {
   "cell_type": "code",
   "execution_count": 245,
   "metadata": {
    "collapsed": true,
    "deletable": true,
    "editable": true
   },
   "outputs": [],
   "source": [
    "#  Extract out the interventions from the training dataset and find the medians for each dosage - these\n",
    "#  represent the continuous analog of the chosen actions"
   ]
  },
  {
   "cell_type": "code",
   "execution_count": 246,
   "metadata": {
    "collapsed": false,
    "deletable": true,
    "editable": true
   },
   "outputs": [
    {
     "data": {
      "text/html": [
       "<div>\n",
       "<table border=\"1\" class=\"dataframe\">\n",
       "  <thead>\n",
       "    <tr style=\"text-align: right;\">\n",
       "      <th></th>\n",
       "      <th>max_dose_vaso</th>\n",
       "      <th>input_4hourly_tev</th>\n",
       "    </tr>\n",
       "  </thead>\n",
       "  <tbody>\n",
       "    <tr>\n",
       "      <th>0</th>\n",
       "      <td>0.0</td>\n",
       "      <td>2100.0</td>\n",
       "    </tr>\n",
       "    <tr>\n",
       "      <th>1</th>\n",
       "      <td>0.0</td>\n",
       "      <td>1999.0</td>\n",
       "    </tr>\n",
       "    <tr>\n",
       "      <th>2</th>\n",
       "      <td>0.0</td>\n",
       "      <td>105.0</td>\n",
       "    </tr>\n",
       "    <tr>\n",
       "      <th>3</th>\n",
       "      <td>0.0</td>\n",
       "      <td>60.0</td>\n",
       "    </tr>\n",
       "    <tr>\n",
       "      <th>4</th>\n",
       "      <td>0.0</td>\n",
       "      <td>60.0</td>\n",
       "    </tr>\n",
       "  </tbody>\n",
       "</table>\n",
       "</div>"
      ],
      "text/plain": [
       "   max_dose_vaso  input_4hourly_tev\n",
       "0            0.0             2100.0\n",
       "1            0.0             1999.0\n",
       "2            0.0              105.0\n",
       "3            0.0               60.0\n",
       "4            0.0               60.0"
      ]
     },
     "execution_count": 246,
     "metadata": {},
     "output_type": "execute_result"
    }
   ],
   "source": [
    "interventions = df_train_orig[[\"max_dose_vaso\", \"input_4hourly_tev\"]]\n",
    "interventions.head()"
   ]
  },
  {
   "cell_type": "code",
   "execution_count": 247,
   "metadata": {
    "collapsed": true,
    "deletable": true,
    "editable": true
   },
   "outputs": [],
   "source": [
    "adjusted_vaso = interventions[\"max_dose_vaso\"][interventions[\"max_dose_vaso\"] >0]\n",
    "adjusted_iv = interventions[\"input_4hourly_tev\"][interventions[\"input_4hourly_tev\"]>0]"
   ]
  },
  {
   "cell_type": "code",
   "execution_count": 248,
   "metadata": {
    "collapsed": false,
    "deletable": true,
    "editable": true
   },
   "outputs": [],
   "source": [
    "vaso_vals = [0]\n",
    "vaso_vals.extend(adjusted_vaso.quantile([0.125,0.375,0.625,0.875]))\n",
    "iv_vals = [0]\n",
    "iv_vals.extend(adjusted_iv.quantile([0.125,0.375,0.625,0.875]))"
   ]
  },
  {
   "cell_type": "code",
   "execution_count": 249,
   "metadata": {
    "collapsed": true,
    "deletable": true,
    "editable": true
   },
   "outputs": [],
   "source": [
    "def sliding_mean(data_array, window=1):\n",
    "    new_list = []\n",
    "    for i in range(len(data_array)):\n",
    "        indices = range(max(i - window + 1, 0),\n",
    "                        min(i + window + 1, len(data_array)))\n",
    "        avg = 0\n",
    "        for j in indices:\n",
    "            avg += data_array[j]\n",
    "        avg /= float(len(indices))\n",
    "        new_list.append(avg)     \n",
    "    return np.array(new_list)"
   ]
  },
  {
   "cell_type": "code",
   "execution_count": 250,
   "metadata": {
    "collapsed": true,
    "deletable": true,
    "editable": true
   },
   "outputs": [],
   "source": [
    "#  Next two cells - can change to load the correct phys/agent actions we want in the plots"
   ]
  },
  {
   "cell_type": "code",
   "execution_count": 251,
   "metadata": {
    "collapsed": false,
    "deletable": true,
    "editable": true
   },
   "outputs": [],
   "source": [
    "phys_actions = pickle.load(open( \"../common/phys_actions.p\", \"rb\" ))"
   ]
  },
  {
   "cell_type": "code",
   "execution_count": 254,
   "metadata": {
    "collapsed": false,
    "deletable": true,
    "editable": true
   },
   "outputs": [],
   "source": [
    "autoencode_actions = pickle.load(open( \"../continuous/dqn_autoencode_actions.p\", \"rb\" ))\n",
    "deeprl2_actions = pickle.load(open( \"../continuous/dqn_normal/dqn_normal_actions.p\", \"rb\" ))"
   ]
  },
  {
   "cell_type": "code",
   "execution_count": 255,
   "metadata": {
    "collapsed": false,
    "deletable": true,
    "editable": true,
    "scrolled": true
   },
   "outputs": [
    {
     "data": {
      "text/plain": [
       "<matplotlib.text.Text at 0x7f23c10f4dd0>"
      ]
     },
     "execution_count": 255,
     "metadata": {},
     "output_type": "execute_result"
    },
    {
     "data": {
      "image/png": "[encoded data removed]",
      "text/plain": [
       "<matplotlib.figure.Figure at 0x7f23c10cee50>"
      ]
     },
     "metadata": {},
     "output_type": "display_data"
    }
   ],
   "source": [
    "_ = plt.hist(phys_actions, bins=25)\n",
    "plt.title(\"Actions selected by physician\")\n",
    "plt.xlabel(\"Action number\")\n",
    "plt.ylabel(\"Frequency\")"
   ]
  },
  {
   "cell_type": "code",
   "execution_count": 256,
   "metadata": {
    "collapsed": true,
    "deletable": true,
    "editable": true
   },
   "outputs": [],
   "source": [
    "inv_action_map = {}\n",
    "count = 0\n",
    "for i in range(5):\n",
    "    for j in range(5):\n",
    "        inv_action_map[count] = [i,j]\n",
    "        count += 1"
   ]
  },
  {
   "cell_type": "code",
   "execution_count": 257,
   "metadata": {
    "collapsed": false,
    "deletable": true,
    "editable": true
   },
   "outputs": [],
   "source": [
    "phys_actions_tuple = [None for i in range(len(phys_actions))]\n",
    "deeprl2_actions_tuple = [None for i in range(len(phys_actions))]\n",
    "autoencode_actions_tuple = [None for i in range(len(phys_actions))]                                          \n",
    "\n",
    "for i in range(len(phys_actions)):\n",
    "    phys_actions_tuple[i] = inv_action_map[phys_actions[i]]\n",
    "    deeprl2_actions_tuple[i] = inv_action_map[deeprl2_actions[i]]\n",
    "    autoencode_actions_tuple[i] = inv_action_map[autoencode_actions[i]]"
   ]
  },
  {
   "cell_type": "code",
   "execution_count": 258,
   "metadata": {
    "collapsed": false,
    "deletable": true,
    "editable": true
   },
   "outputs": [],
   "source": [
    "phys_actions_tuple = np.array(phys_actions_tuple)\n",
    "deeprl2_actions_tuple = np.array(deeprl2_actions_tuple)\n",
    "autoencode_actions_tuple = np.array(autoencode_actions_tuple)"
   ]
  },
  {
   "cell_type": "code",
   "execution_count": 259,
   "metadata": {
    "collapsed": false,
    "deletable": true,
    "editable": true
   },
   "outputs": [],
   "source": [
    "phys_actions_iv = phys_actions_tuple[:,0]\n",
    "phys_actions_vaso = phys_actions_tuple[:,1]\n",
    "hist, x_edges, y_edges = np.histogram2d(phys_actions_iv, phys_actions_vaso, bins=5)"
   ]
  },
  {
   "cell_type": "code",
   "execution_count": 260,
   "metadata": {
    "collapsed": false,
    "deletable": true,
    "editable": true
   },
   "outputs": [],
   "source": [
    "deeprl2_actions_iv = deeprl2_actions_tuple[:,0]\n",
    "deeprl2_actions_vaso = deeprl2_actions_tuple[:,1]\n",
    "hist2, _, _ = np.histogram2d(deeprl2_actions_iv, deeprl2_actions_vaso, bins=5)"
   ]
  },
  {
   "cell_type": "code",
   "execution_count": 261,
   "metadata": {
    "collapsed": true,
    "deletable": true,
    "editable": true
   },
   "outputs": [],
   "source": [
    "autoencode_actions_iv = autoencode_actions_tuple[:,0]\n",
    "autoencode_actions_vaso = autoencode_actions_tuple[:,1]\n",
    "hist3, _, _ = np.histogram2d(autoencode_actions_iv, autoencode_actions_vaso, bins=5)"
   ]
  },
  {
   "cell_type": "code",
   "execution_count": 262,
   "metadata": {
    "collapsed": false,
    "deletable": true,
    "editable": true
   },
   "outputs": [],
   "source": [
    "x_edges = np.arange(-0.5,5)\n",
    "y_edges = np.arange(-0.5,5)"
   ]
  },
  {
   "cell_type": "code",
   "execution_count": 264,
   "metadata": {
    "collapsed": false,
    "deletable": true,
    "editable": true
   },
   "outputs": [
    {
     "data": {
      "image/png": "[encoded data removed]",
      "text/plain": [
       "<matplotlib.figure.Figure at 0x7f23c0610410>"
      ]
     },
     "metadata": {},
     "output_type": "display_data"
    }
   ],
   "source": [
    "f, (ax1, ax2, ax3) = plt.subplots(1, 3, figsize=(16,4))\n",
    "ax1.imshow(np.flipud(hist), cmap=\"Blues\",extent=[x_edges[0], x_edges[-1],  y_edges[0],y_edges[-1]])\n",
    "ax2.imshow(np.flipud(hist2), cmap=\"OrRd\", extent=[x_edges[0], x_edges[-1],  y_edges[0],y_edges[-1]])\n",
    "ax3.imshow(np.flipud(hist3), cmap=\"Greens\", extent=[x_edges[0], x_edges[-1],  y_edges[0],y_edges[-1]])\n",
    "\n",
    "# ax1.grid(color='b', linestyle='-', linewidth=1)\n",
    "# ax2.grid(color='r', linestyle='-', linewidth=1)\n",
    "# ax3.grid(color='g', linestyle='-', linewidth=1)\n",
    "\n",
    "# Major ticks\n",
    "ax1.set_xticks(np.arange(0, 5, 1));\n",
    "ax1.set_yticks(np.arange(0, 5, 1));\n",
    "ax2.set_xticks(np.arange(0, 5, 1));\n",
    "ax2.set_yticks(np.arange(0, 5, 1));\n",
    "ax3.set_xticks(np.arange(0, 5, 1));\n",
    "ax3.set_yticks(np.arange(0, 5, 1));\n",
    "\n",
    "# Labels for major ticks\n",
    "ax1.set_xticklabels(np.arange(0, 5, 1));\n",
    "ax1.set_yticklabels(np.arange(0, 5, 1));\n",
    "ax2.set_xticklabels(np.arange(0, 5, 1));\n",
    "ax2.set_yticklabels(np.arange(0, 5, 1));\n",
    "ax3.set_xticklabels(np.arange(0, 5, 1));\n",
    "ax3.set_yticklabels(np.arange(0, 5, 1));\n",
    "\n",
    "# Minor ticks\n",
    "ax1.set_xticks(np.arange(-.5, 5, 1), minor=True);\n",
    "ax1.set_yticks(np.arange(-.5, 5, 1), minor=True);\n",
    "ax2.set_xticks(np.arange(-.5, 5, 1), minor=True);\n",
    "ax2.set_yticks(np.arange(-.5, 5, 1), minor=True);\n",
    "ax3.set_xticks(np.arange(-.5, 5, 1), minor=True);\n",
    "ax3.set_yticks(np.arange(-.5, 5, 1), minor=True);\n",
    "\n",
    "# Gridlines based on minor ticks\n",
    "ax1.grid(which='minor', color='b', linestyle='-', linewidth=1)\n",
    "ax2.grid(which='minor', color='r', linestyle='-', linewidth=1)\n",
    "ax3.grid(which='minor', color='g', linestyle='-', linewidth=1)\n",
    "\n",
    "im1 = ax1.pcolormesh(x_edges, y_edges, hist, cmap='Blues')\n",
    "f.colorbar(im1, ax=ax1, label = \"Action counts\")\n",
    "\n",
    "im2 = ax2.pcolormesh(x_edges, y_edges, hist2, cmap='OrRd')\n",
    "f.colorbar(im2, ax=ax2, label = \"Action counts\")\n",
    "\n",
    "im3 = ax3.pcolormesh(x_edges, y_edges, hist3, cmap='Greens')\n",
    "f.colorbar(im3, ax=ax3, label = \"Action counts\")\n",
    "\n",
    "ax1.set_ylabel('IV fluid dose')\n",
    "ax2.set_ylabel('IV fluid dose')\n",
    "ax3.set_ylabel('IV fluid dose')\n",
    "ax1.set_xlabel('Vasopressor dose')\n",
    "ax2.set_xlabel('Vasopressor dose')\n",
    "ax3.set_xlabel('Vasopressor dose')\n",
    "\n",
    "ax1.set_title(\"Physician policy\")\n",
    "ax2.set_title(\"Q-Network (Sparse Rewards) policy\")\n",
    "ax3.set_title(\"Q-Network (Shaped Rewards) policy\")\n",
    "plt.tight_layout()"
   ]
  },
  {
   "cell_type": "code",
   "execution_count": 265,
   "metadata": {
    "collapsed": false,
    "deletable": true,
    "editable": true,
    "scrolled": true
   },
   "outputs": [
    {
     "data": {
      "image/png": "[encoded data removed]",
      "text/plain": [
       "<matplotlib.figure.Figure at 0x7f2427a30f50>"
      ]
     },
     "metadata": {},
     "output_type": "display_data"
    }
   ],
   "source": [
    "f, (ax1, ax2, ax3) = plt.subplots(1, 3, sharey=True, figsize=(12,4))\n",
    "ax1.hist(phys_actions, bins=50)\n",
    "ax1.set_title(\"Physician Actions\", fontsize = 10)\n",
    "ax2.hist(deeprl2_actions, bins=50, color='r')\n",
    "ax2.set_title(\"Q-Network Actions\", fontsize = 10)\n",
    "ax3.hist(autoencode_actions, bins=50, color='g')\n",
    "ax3.set_title(\"Autoencode Q-Network Actions\", fontsize = 10)\n",
    "f.text(0.5, -0.03, 'Action number', ha='center', fontsize=15)\n",
    "f.text(-0.02, 0.5, 'Frequency', va='center', rotation='vertical', fontsize = 15)\n",
    "# ax2.hist(autoencode_actions, bins=25, color ='g')\n",
    "plt.tight_layout()\n"
   ]
  },
  {
   "cell_type": "code",
   "execution_count": 266,
   "metadata": {
    "collapsed": true,
    "deletable": true,
    "editable": true
   },
   "outputs": [],
   "source": [
    "def make_df_diff(op_actions):\n",
    "    op_vaso_med = []\n",
    "    op_iv_med = []\n",
    "    for action in op_actions:\n",
    "        iv,vaso = inv_action_map[action]\n",
    "        op_vaso_med.append(vaso_vals[vaso])\n",
    "        op_iv_med.append(iv_vals[iv])\n",
    "    iv_diff = np.array(op_iv_med) - np.array(df_test_orig['input_4hourly_tev'])\n",
    "    vaso_diff = np.array(op_vaso_med) - np.array(df_test_orig['max_dose_vaso'])\n",
    "    df_diff = pd.DataFrame()\n",
    "    df_diff['mort'] = np.array(df_test_orig['died_in_hosp'])\n",
    "    df_diff['iv_diff'] = iv_diff\n",
    "    df_diff['vaso_diff'] = vaso_diff\n",
    "    return df_diff"
   ]
  },
  {
   "cell_type": "code",
   "execution_count": 267,
   "metadata": {
    "collapsed": true,
    "deletable": true,
    "editable": true
   },
   "outputs": [],
   "source": [
    "from scipy.stats import sem\n",
    "def make_iv_plot_data(df_diff):\n",
    "    bin_medians_iv = []\n",
    "    mort_iv = []\n",
    "    mort_std_iv= []\n",
    "    i = -800\n",
    "    while i <= 900:\n",
    "        count =df_diff.loc[(df_diff['iv_diff']>i-50) & (df_diff['iv_diff']<i+50)]\n",
    "        try:\n",
    "            res = sum(count['mort'])/float(len(count))\n",
    "            if len(count) >=2:\n",
    "                bin_medians_iv.append(i)\n",
    "                mort_iv.append(res)\n",
    "                mort_std_iv.append(sem(count['mort']))\n",
    "        except ZeroDivisionError:\n",
    "            pass\n",
    "        i += 100\n",
    "    return bin_medians_iv, mort_iv, mort_std_iv"
   ]
  },
  {
   "cell_type": "code",
   "execution_count": 268,
   "metadata": {
    "collapsed": true,
    "deletable": true,
    "editable": true
   },
   "outputs": [],
   "source": [
    "from scipy.stats import sem\n",
    "def make_vaso_plot_data(df_diff):\n",
    "    bin_medians_vaso = []\n",
    "    mort_vaso= []\n",
    "    mort_std_vaso= []\n",
    "    i = -0.6\n",
    "    while i <= 0.8:\n",
    "        count =df_diff.loc[(df_diff['vaso_diff']>i-0.05) & (df_diff['vaso_diff']<i+0.05)]\n",
    "        try:\n",
    "            res = sum(count['mort'])/float(len(count))\n",
    "            if len(count) >=2:\n",
    "                bin_medians_vaso.append(i)\n",
    "                mort_vaso.append(res)\n",
    "                mort_std_vaso.append(sem(count['mort']))\n",
    "        except ZeroDivisionError:\n",
    "            pass\n",
    "        i += 0.1\n",
    "    return bin_medians_vaso, mort_vaso, mort_std_vaso"
   ]
  },
  {
   "cell_type": "code",
   "execution_count": 269,
   "metadata": {
    "collapsed": false,
    "deletable": true,
    "editable": true
   },
   "outputs": [],
   "source": [
    "df_diff_autoencode = make_df_diff(autoencode_actions)\n",
    "df_diff_deeprl2 = make_df_diff(deeprl2_actions)"
   ]
  },
  {
   "cell_type": "code",
   "execution_count": 270,
   "metadata": {
    "collapsed": false,
    "deletable": true,
    "editable": true
   },
   "outputs": [],
   "source": [
    "bin_med_iv_auto, mort_iv_auto, mort_std_iv_auto = make_iv_plot_data(df_diff_autoencode)\n",
    "bin_med_iv_deep, mort_iv_deep, mort_std_iv_deep = make_iv_plot_data(df_diff_deeprl2)\n",
    "bin_med_vaso_auto, mort_vaso_auto, mort_std_vaso_auto = make_vaso_plot_data(df_diff_autoencode)\n",
    "bin_med_vaso_deep, mort_vaso_deep, mort_std_vaso_deep = make_vaso_plot_data(df_diff_deeprl2)"
   ]
  },
  {
   "cell_type": "code",
   "execution_count": 274,
   "metadata": {
    "collapsed": false,
    "deletable": true,
    "editable": true,
    "scrolled": false
   },
   "outputs": [
    {
     "data": {
      "text/plain": [
       "<matplotlib.text.Text at 0x7f23c0a27e50>"
      ]
     },
     "execution_count": 274,
     "metadata": {},
     "output_type": "execute_result"
    },
    {
     "data": {
      "image/png": "[encoded data removed]",
      "text/plain": [
       "<matplotlib.figure.Figure at 0x7f2427b63a90>"
      ]
     },
     "metadata": {},
     "output_type": "display_data"
    }
   ],
   "source": [
    "f, ((ax1, ax2), (ax3, ax4)) = plt.subplots(2, 2, sharex='col', sharey='row', figsize = (7.5,5))\n",
    "ax1.plot(bin_med_vaso_deep, sliding_mean(mort_vaso_deep), color='r')\n",
    "ax1.fill_between(bin_med_vaso_deep, sliding_mean(mort_vaso_deep) - 1*mort_std_vaso_deep,  \n",
    "                 sliding_mean(mort_vaso_deep) + 1*mort_std_vaso_deep, color='tomato')\n",
    "ax1.set_title('Q-Network (Sparse Rewards) - Vasopressors')\n",
    "x_r = [i/10.0 for i in range(-6,10,2)]\n",
    "y_r = [i/20.0 for i in range(0,20,1)]\n",
    "ax1.set_xticks(x_r)\n",
    "ax1.set_yticks(y_r)\n",
    "ax1.grid()\n",
    "\n",
    "ax2.plot(bin_med_iv_deep, sliding_mean(mort_iv_deep), color='r')\n",
    "ax2.fill_between(bin_med_iv_deep, sliding_mean(mort_iv_deep) - 1*mort_std_iv_deep,  \n",
    "                 sliding_mean(mort_iv_deep) + 1*mort_std_iv_deep, color='tomato')\n",
    "ax2.set_title('Q-Network (Sparse Rewards) - IV fluids')\n",
    "x_iv = [i for i in range(-800,900,400)]\n",
    "ax2.set_xticks(x_iv)\n",
    "ax2.grid()\n",
    "\n",
    "ax3.plot(bin_med_vaso_auto, sliding_mean(mort_vaso_auto), color='g')\n",
    "ax3.fill_between(bin_med_vaso_auto, sliding_mean(mort_vaso_auto) - 1*mort_std_vaso_auto,  \n",
    "                 sliding_mean(mort_vaso_auto) + 1*mort_std_vaso_auto, color='palegreen')\n",
    "y_auto = [i/20.0 for i in range(0,21,1)]\n",
    "ax3.set_yticks(y_auto)\n",
    "ax3.set_title('Q-Network (Shaped Rewards) - Vasopressors')\n",
    "ax3.grid()\n",
    "\n",
    "ax4.plot(bin_med_iv_auto, sliding_mean(mort_iv_auto), color='g')\n",
    "ax4.fill_between(bin_med_iv_auto, sliding_mean(mort_iv_auto) - 1*mort_std_iv_auto,  \n",
    "                 sliding_mean(mort_iv_auto) + 1*mort_std_iv_auto, color='palegreen')\n",
    "ax4.set_title('Q-Network (Shaped Rewards) - IV Fluids')\n",
    "ax4.grid()\n",
    "plt.tight_layout()\n",
    "f.text(0.225, -0.03, 'Difference between optimal and physician vasopressor dose', ha='center', fontsize=10)\n",
    "f.text(0.775, -0.03, 'Difference between optimal and physician IV dose', ha='center', fontsize=10)\n",
    "f.text(-0.02, 0.5, 'Observed Mortality', va='center', rotation='vertical', fontsize = 10)"
   ]
  },
  {
   "cell_type": "code",
   "execution_count": null,
   "metadata": {
    "collapsed": true
   },
   "outputs": [],
   "source": []
  }
 ],
 "metadata": {
  "kernelspec": {
   "display_name": "Python 2",
   "language": "python",
   "name": "python2"
  },
  "language_info": {
   "codemirror_mode": {
    "name": "ipython",
    "version": 2
   },
   "file_extension": ".py",
   "mimetype": "text/x-python",
   "name": "python",
   "nbconvert_exporter": "python",
   "pygments_lexer": "ipython2",
   "version": "2.7.12"
  }
 },
 "nbformat": 4,
 "nbformat_minor": 2
}
