{
 "cells": [
  {
   "cell_type": "code",
   "execution_count": null,
   "metadata": {
    "collapsed": true
   },
   "outputs": [],
   "source": [
    "#  Reward function shaping in this script\n",
    "#  TODO extend for the discrete case also. Right now, discrete uses only sparse rewards"
   ]
  },
  {
   "cell_type": "code",
   "execution_count": 1,
   "metadata": {
    "collapsed": true,
    "deletable": true,
    "editable": true
   },
   "outputs": [],
   "source": [
    "import pandas as pd\n",
    "import numpy as np\n",
    "import cPickle as pickle"
   ]
  },
  {
   "cell_type": "code",
   "execution_count": 2,
   "metadata": {
    "collapsed": true,
    "deletable": true,
    "editable": true
   },
   "outputs": [],
   "source": [
    "df_train = pd.read_csv('../data/rl_train_set_scaled.csv')\n",
    "df_val =  pd.read_csv('..data/rl_val_set_scaled.csv')\n",
    "df_test = pd.read_csv('../data/rl_val_set_scaled.csv')"
   ]
  },
  {
   "cell_type": "code",
   "execution_count": null,
   "metadata": {
    "collapsed": true
   },
   "outputs": [],
   "source": [
    "df_train_disc = pd.read_csv('../data/rl_train_data_discrete.csv')\n",
    "df_val_disc = pd.read_csv('../data/rl_val_data_discrete.csv')\n",
    "df_test_disc = pd.read_csv('../data/rl_test_data_discrete.csv')"
   ]
  },
  {
   "cell_type": "code",
   "execution_count": 4,
   "metadata": {
    "collapsed": false,
    "deletable": true,
    "editable": true
   },
   "outputs": [
    {
     "data": {
      "text/html": [
       "<div>\n",
       "<table border=\"1\" class=\"dataframe\">\n",
       "  <thead>\n",
       "    <tr style=\"text-align: right;\">\n",
       "      <th></th>\n",
       "      <th>bloc</th>\n",
       "      <th>icustayid</th>\n",
       "      <th>charttime</th>\n",
       "      <th>gender</th>\n",
       "      <th>age</th>\n",
       "      <th>elixhauser</th>\n",
       "      <th>re_admission</th>\n",
       "      <th>died_in_hosp</th>\n",
       "      <th>mortality_90d</th>\n",
       "      <th>Weight_kg</th>\n",
       "      <th>...</th>\n",
       "      <th>max_dose_vaso</th>\n",
       "      <th>input_total_tev</th>\n",
       "      <th>input_4hourly_tev</th>\n",
       "      <th>output_total</th>\n",
       "      <th>output_4hourly</th>\n",
       "      <th>cumulated_balance_tev</th>\n",
       "      <th>vaso_input</th>\n",
       "      <th>iv_input</th>\n",
       "      <th>reward</th>\n",
       "      <th>actual_action</th>\n",
       "    </tr>\n",
       "  </thead>\n",
       "  <tbody>\n",
       "    <tr>\n",
       "      <th>0</th>\n",
       "      <td>1</td>\n",
       "      <td>3</td>\n",
       "      <td>7245052800</td>\n",
       "      <td>-0.5</td>\n",
       "      <td>-0.972456</td>\n",
       "      <td>-1.807766</td>\n",
       "      <td>-0.5</td>\n",
       "      <td>0</td>\n",
       "      <td>1</td>\n",
       "      <td>-0.230659</td>\n",
       "      <td>...</td>\n",
       "      <td>-0.379552</td>\n",
       "      <td>0.133952</td>\n",
       "      <td>1.254772</td>\n",
       "      <td>-0.380319</td>\n",
       "      <td>0.423948</td>\n",
       "      <td>0.090690</td>\n",
       "      <td>0.0</td>\n",
       "      <td>4.0</td>\n",
       "      <td>0</td>\n",
       "      <td>20</td>\n",
       "    </tr>\n",
       "    <tr>\n",
       "      <th>1</th>\n",
       "      <td>2</td>\n",
       "      <td>3</td>\n",
       "      <td>7245067200</td>\n",
       "      <td>-0.5</td>\n",
       "      <td>-0.972456</td>\n",
       "      <td>-1.807766</td>\n",
       "      <td>-0.5</td>\n",
       "      <td>0</td>\n",
       "      <td>1</td>\n",
       "      <td>-0.230659</td>\n",
       "      <td>...</td>\n",
       "      <td>-0.379552</td>\n",
       "      <td>0.319865</td>\n",
       "      <td>1.240192</td>\n",
       "      <td>-0.040929</td>\n",
       "      <td>0.646407</td>\n",
       "      <td>0.317665</td>\n",
       "      <td>0.0</td>\n",
       "      <td>4.0</td>\n",
       "      <td>0</td>\n",
       "      <td>20</td>\n",
       "    </tr>\n",
       "    <tr>\n",
       "      <th>2</th>\n",
       "      <td>3</td>\n",
       "      <td>3</td>\n",
       "      <td>7245081600</td>\n",
       "      <td>-0.5</td>\n",
       "      <td>-0.972456</td>\n",
       "      <td>-1.807766</td>\n",
       "      <td>-0.5</td>\n",
       "      <td>0</td>\n",
       "      <td>1</td>\n",
       "      <td>-0.230659</td>\n",
       "      <td>...</td>\n",
       "      <td>-0.379552</td>\n",
       "      <td>0.327648</td>\n",
       "      <td>0.368842</td>\n",
       "      <td>0.324865</td>\n",
       "      <td>1.034249</td>\n",
       "      <td>0.095431</td>\n",
       "      <td>0.0</td>\n",
       "      <td>2.0</td>\n",
       "      <td>0</td>\n",
       "      <td>10</td>\n",
       "    </tr>\n",
       "    <tr>\n",
       "      <th>3</th>\n",
       "      <td>4</td>\n",
       "      <td>3</td>\n",
       "      <td>7245096000</td>\n",
       "      <td>-0.5</td>\n",
       "      <td>-0.972456</td>\n",
       "      <td>-1.807766</td>\n",
       "      <td>-0.5</td>\n",
       "      <td>0</td>\n",
       "      <td>1</td>\n",
       "      <td>-0.230659</td>\n",
       "      <td>...</td>\n",
       "      <td>-0.379552</td>\n",
       "      <td>0.332030</td>\n",
       "      <td>0.203508</td>\n",
       "      <td>0.397886</td>\n",
       "      <td>0.735431</td>\n",
       "      <td>0.012464</td>\n",
       "      <td>0.0</td>\n",
       "      <td>2.0</td>\n",
       "      <td>0</td>\n",
       "      <td>10</td>\n",
       "    </tr>\n",
       "    <tr>\n",
       "      <th>4</th>\n",
       "      <td>5</td>\n",
       "      <td>3</td>\n",
       "      <td>7245110400</td>\n",
       "      <td>-0.5</td>\n",
       "      <td>-0.972456</td>\n",
       "      <td>-1.807766</td>\n",
       "      <td>-0.5</td>\n",
       "      <td>0</td>\n",
       "      <td>1</td>\n",
       "      <td>-0.230659</td>\n",
       "      <td>...</td>\n",
       "      <td>-0.379552</td>\n",
       "      <td>0.336366</td>\n",
       "      <td>0.203508</td>\n",
       "      <td>0.439922</td>\n",
       "      <td>0.620478</td>\n",
       "      <td>-0.042354</td>\n",
       "      <td>0.0</td>\n",
       "      <td>2.0</td>\n",
       "      <td>0</td>\n",
       "      <td>10</td>\n",
       "    </tr>\n",
       "  </tbody>\n",
       "</table>\n",
       "<p>5 rows × 61 columns</p>\n",
       "</div>"
      ],
      "text/plain": [
       "   bloc  icustayid   charttime  gender       age  elixhauser  re_admission  \\\n",
       "0     1          3  7245052800    -0.5 -0.972456   -1.807766          -0.5   \n",
       "1     2          3  7245067200    -0.5 -0.972456   -1.807766          -0.5   \n",
       "2     3          3  7245081600    -0.5 -0.972456   -1.807766          -0.5   \n",
       "3     4          3  7245096000    -0.5 -0.972456   -1.807766          -0.5   \n",
       "4     5          3  7245110400    -0.5 -0.972456   -1.807766          -0.5   \n",
       "\n",
       "   died_in_hosp  mortality_90d  Weight_kg      ...        max_dose_vaso  \\\n",
       "0             0              1  -0.230659      ...            -0.379552   \n",
       "1             0              1  -0.230659      ...            -0.379552   \n",
       "2             0              1  -0.230659      ...            -0.379552   \n",
       "3             0              1  -0.230659      ...            -0.379552   \n",
       "4             0              1  -0.230659      ...            -0.379552   \n",
       "\n",
       "   input_total_tev  input_4hourly_tev  output_total  output_4hourly  \\\n",
       "0         0.133952           1.254772     -0.380319        0.423948   \n",
       "1         0.319865           1.240192     -0.040929        0.646407   \n",
       "2         0.327648           0.368842      0.324865        1.034249   \n",
       "3         0.332030           0.203508      0.397886        0.735431   \n",
       "4         0.336366           0.203508      0.439922        0.620478   \n",
       "\n",
       "   cumulated_balance_tev  vaso_input  iv_input  reward  actual_action  \n",
       "0               0.090690         0.0       4.0       0             20  \n",
       "1               0.317665         0.0       4.0       0             20  \n",
       "2               0.095431         0.0       2.0       0             10  \n",
       "3               0.012464         0.0       2.0       0             10  \n",
       "4              -0.042354         0.0       2.0       0             10  \n",
       "\n",
       "[5 rows x 61 columns]"
      ]
     },
     "execution_count": 4,
     "metadata": {},
     "output_type": "execute_result"
    }
   ],
   "source": [
    "df_train.head()"
   ]
  },
  {
   "cell_type": "code",
   "execution_count": 5,
   "metadata": {
    "collapsed": false,
    "deletable": true,
    "editable": true
   },
   "outputs": [
    {
     "data": {
      "text/plain": [
       "193654"
      ]
     },
     "execution_count": 5,
     "metadata": {},
     "output_type": "execute_result"
    }
   ],
   "source": [
    "len(df_train)"
   ]
  },
  {
   "cell_type": "code",
   "execution_count": 6,
   "metadata": {
    "collapsed": false,
    "deletable": true,
    "editable": true
   },
   "outputs": [
    {
     "data": {
      "text/html": [
       "<div>\n",
       "<table border=\"1\" class=\"dataframe\">\n",
       "  <thead>\n",
       "    <tr style=\"text-align: right;\">\n",
       "      <th></th>\n",
       "      <th>bloc</th>\n",
       "      <th>icustayid</th>\n",
       "      <th>charttime</th>\n",
       "      <th>gender</th>\n",
       "      <th>age</th>\n",
       "      <th>elixhauser</th>\n",
       "      <th>re_admission</th>\n",
       "      <th>died_in_hosp</th>\n",
       "      <th>mortality_90d</th>\n",
       "      <th>Weight_kg</th>\n",
       "      <th>...</th>\n",
       "      <th>max_dose_vaso</th>\n",
       "      <th>input_total_tev</th>\n",
       "      <th>input_4hourly_tev</th>\n",
       "      <th>output_total</th>\n",
       "      <th>output_4hourly</th>\n",
       "      <th>cumulated_balance_tev</th>\n",
       "      <th>vaso_input</th>\n",
       "      <th>iv_input</th>\n",
       "      <th>reward</th>\n",
       "      <th>actual_action</th>\n",
       "    </tr>\n",
       "  </thead>\n",
       "  <tbody>\n",
       "    <tr>\n",
       "      <th>0</th>\n",
       "      <td>1</td>\n",
       "      <td>14</td>\n",
       "      <td>4264269300</td>\n",
       "      <td>-0.5</td>\n",
       "      <td>1.190578</td>\n",
       "      <td>-0.875816</td>\n",
       "      <td>-0.5</td>\n",
       "      <td>0</td>\n",
       "      <td>1</td>\n",
       "      <td>-1.071284</td>\n",
       "      <td>...</td>\n",
       "      <td>-0.379552</td>\n",
       "      <td>-0.273577</td>\n",
       "      <td>1.112914</td>\n",
       "      <td>-0.260681</td>\n",
       "      <td>0.309985</td>\n",
       "      <td>-0.251550</td>\n",
       "      <td>0.0</td>\n",
       "      <td>4.0</td>\n",
       "      <td>0</td>\n",
       "      <td>20</td>\n",
       "    </tr>\n",
       "    <tr>\n",
       "      <th>1</th>\n",
       "      <td>2</td>\n",
       "      <td>14</td>\n",
       "      <td>4264283700</td>\n",
       "      <td>-0.5</td>\n",
       "      <td>1.190578</td>\n",
       "      <td>-0.875816</td>\n",
       "      <td>-0.5</td>\n",
       "      <td>0</td>\n",
       "      <td>1</td>\n",
       "      <td>-0.840103</td>\n",
       "      <td>...</td>\n",
       "      <td>-0.379552</td>\n",
       "      <td>-0.183027</td>\n",
       "      <td>0.698303</td>\n",
       "      <td>-0.094558</td>\n",
       "      <td>0.443790</td>\n",
       "      <td>-0.240439</td>\n",
       "      <td>0.0</td>\n",
       "      <td>3.0</td>\n",
       "      <td>0</td>\n",
       "      <td>15</td>\n",
       "    </tr>\n",
       "    <tr>\n",
       "      <th>2</th>\n",
       "      <td>3</td>\n",
       "      <td>14</td>\n",
       "      <td>4264298100</td>\n",
       "      <td>-0.5</td>\n",
       "      <td>1.190578</td>\n",
       "      <td>-0.875816</td>\n",
       "      <td>-0.5</td>\n",
       "      <td>0</td>\n",
       "      <td>1</td>\n",
       "      <td>-0.608922</td>\n",
       "      <td>...</td>\n",
       "      <td>-0.379552</td>\n",
       "      <td>-0.108854</td>\n",
       "      <td>0.698303</td>\n",
       "      <td>-0.001038</td>\n",
       "      <td>0.393879</td>\n",
       "      <td>-0.223993</td>\n",
       "      <td>0.0</td>\n",
       "      <td>3.0</td>\n",
       "      <td>0</td>\n",
       "      <td>15</td>\n",
       "    </tr>\n",
       "    <tr>\n",
       "      <th>3</th>\n",
       "      <td>4</td>\n",
       "      <td>14</td>\n",
       "      <td>4264312500</td>\n",
       "      <td>-0.5</td>\n",
       "      <td>1.190578</td>\n",
       "      <td>-0.875816</td>\n",
       "      <td>-0.5</td>\n",
       "      <td>0</td>\n",
       "      <td>1</td>\n",
       "      <td>-0.377741</td>\n",
       "      <td>...</td>\n",
       "      <td>-0.379552</td>\n",
       "      <td>-0.076245</td>\n",
       "      <td>0.493349</td>\n",
       "      <td>0.033562</td>\n",
       "      <td>0.146330</td>\n",
       "      <td>-0.214363</td>\n",
       "      <td>0.0</td>\n",
       "      <td>2.0</td>\n",
       "      <td>0</td>\n",
       "      <td>10</td>\n",
       "    </tr>\n",
       "    <tr>\n",
       "      <th>4</th>\n",
       "      <td>5</td>\n",
       "      <td>14</td>\n",
       "      <td>4264326900</td>\n",
       "      <td>-0.5</td>\n",
       "      <td>1.190578</td>\n",
       "      <td>-0.875816</td>\n",
       "      <td>-0.5</td>\n",
       "      <td>0</td>\n",
       "      <td>1</td>\n",
       "      <td>-0.146560</td>\n",
       "      <td>...</td>\n",
       "      <td>-0.379552</td>\n",
       "      <td>-0.076245</td>\n",
       "      <td>-1.689325</td>\n",
       "      <td>0.033562</td>\n",
       "      <td>-2.008267</td>\n",
       "      <td>-0.214363</td>\n",
       "      <td>0.0</td>\n",
       "      <td>0.0</td>\n",
       "      <td>0</td>\n",
       "      <td>0</td>\n",
       "    </tr>\n",
       "  </tbody>\n",
       "</table>\n",
       "<p>5 rows × 61 columns</p>\n",
       "</div>"
      ],
      "text/plain": [
       "   bloc  icustayid   charttime  gender       age  elixhauser  re_admission  \\\n",
       "0     1         14  4264269300    -0.5  1.190578   -0.875816          -0.5   \n",
       "1     2         14  4264283700    -0.5  1.190578   -0.875816          -0.5   \n",
       "2     3         14  4264298100    -0.5  1.190578   -0.875816          -0.5   \n",
       "3     4         14  4264312500    -0.5  1.190578   -0.875816          -0.5   \n",
       "4     5         14  4264326900    -0.5  1.190578   -0.875816          -0.5   \n",
       "\n",
       "   died_in_hosp  mortality_90d  Weight_kg      ...        max_dose_vaso  \\\n",
       "0             0              1  -1.071284      ...            -0.379552   \n",
       "1             0              1  -0.840103      ...            -0.379552   \n",
       "2             0              1  -0.608922      ...            -0.379552   \n",
       "3             0              1  -0.377741      ...            -0.379552   \n",
       "4             0              1  -0.146560      ...            -0.379552   \n",
       "\n",
       "   input_total_tev  input_4hourly_tev  output_total  output_4hourly  \\\n",
       "0        -0.273577           1.112914     -0.260681        0.309985   \n",
       "1        -0.183027           0.698303     -0.094558        0.443790   \n",
       "2        -0.108854           0.698303     -0.001038        0.393879   \n",
       "3        -0.076245           0.493349      0.033562        0.146330   \n",
       "4        -0.076245          -1.689325      0.033562       -2.008267   \n",
       "\n",
       "   cumulated_balance_tev  vaso_input  iv_input  reward  actual_action  \n",
       "0              -0.251550         0.0       4.0       0             20  \n",
       "1              -0.240439         0.0       3.0       0             15  \n",
       "2              -0.223993         0.0       3.0       0             15  \n",
       "3              -0.214363         0.0       2.0       0             10  \n",
       "4              -0.214363         0.0       0.0       0              0  \n",
       "\n",
       "[5 rows x 61 columns]"
      ]
     },
     "execution_count": 6,
     "metadata": {},
     "output_type": "execute_result"
    }
   ],
   "source": [
    "df_test.head()"
   ]
  },
  {
   "cell_type": "code",
   "execution_count": 8,
   "metadata": {
    "collapsed": true,
    "deletable": true,
    "editable": true
   },
   "outputs": [],
   "source": [
    "# Smaller rewards to improve stability in continuous models\n",
    "df_train.loc[df_train['reward'] > 15,'reward'] = 15\n",
    "df_train.loc[df_train['reward'] < -15,'reward'] = -15\n",
    "\n",
    "df_val.loc[df_val['reward'] > 15,'reward'] = 15\n",
    "df_val.loc[df_val['reward'] < -15,'reward'] = -15\n",
    "\n",
    "df_test.loc[df_test['reward'] > 15,'reward'] = 15\n",
    "df_test.loc[df_test['reward'] < -15,'reward'] = -15"
   ]
  },
  {
   "cell_type": "code",
   "execution_count": null,
   "metadata": {
    "collapsed": true
   },
   "outputs": [],
   "source": [
    "# Similar process in discrete models to facilitate comparisons\n",
    "df_train_disc.loc[df_train_disc['reward'] > 15,'reward'] = 15\n",
    "df_train_disc.loc[df_train_disc['reward'] < -15,'reward'] = -15\n",
    "\n",
    "df_val_disc.loc[df_val_disc['reward'] > 15,'reward'] = 15\n",
    "df_val_disc.loc[df_val_disc['reward'] < -15,'reward'] = -15\n",
    "\n",
    "df_test_disc.loc[df_test_disc['reward'] > 15,'reward'] = 15\n",
    "df_test_disc.loc[df_test_disc['reward'] < -15,'reward'] = -15"
   ]
  },
  {
   "cell_type": "code",
   "execution_count": 14,
   "metadata": {
    "collapsed": true,
    "deletable": true,
    "editable": true
   },
   "outputs": [],
   "source": [
    "orig_df = pd.read_csv('../data/MKdataset07Feb17.csv')"
   ]
  },
  {
   "cell_type": "code",
   "execution_count": 15,
   "metadata": {
    "collapsed": true,
    "deletable": true,
    "editable": true
   },
   "outputs": [],
   "source": [
    "# lactate - target is 0.5 to 1 mmol/l\n",
    "# SOFA - 0\n",
    "#  GCS - 0\n",
    "#  mechvent = 0\n",
    "# MAP is normally between 65 and 110 mmHg"
   ]
  },
  {
   "cell_type": "code",
   "execution_count": 16,
   "metadata": {
    "collapsed": false,
    "deletable": true,
    "editable": true
   },
   "outputs": [],
   "source": [
    "# s1 = orig_df['SOFA'].values\n",
    "# s2 = orig_df['SOFA'].values\n",
    "# s2 = np.insert(s2,0,9)\n",
    "# s2 = np.delete(s2, -1)\n",
    "# print len(s1), len(s2)"
   ]
  },
  {
   "cell_type": "code",
   "execution_count": 17,
   "metadata": {
    "collapsed": false,
    "deletable": true,
    "editable": true
   },
   "outputs": [],
   "source": [
    "# pd.Series(s2-s1).hist(bins=100)"
   ]
  },
  {
   "cell_type": "code",
   "execution_count": 18,
   "metadata": {
    "collapsed": false,
    "deletable": true,
    "editable": true
   },
   "outputs": [],
   "source": [
    "# l1 = orig_df['Arterial_lactate'].values\n",
    "# l2 = orig_df['Arterial_lactate'].values\n",
    "# l2 = np.insert(l2,0,9)\n",
    "# l2 = np.delete(l2, -1)\n",
    "# print len(l1), len(l2)"
   ]
  },
  {
   "cell_type": "code",
   "execution_count": 19,
   "metadata": {
    "collapsed": true,
    "deletable": true,
    "editable": true
   },
   "outputs": [],
   "source": [
    "c0 = -0.1/4\n",
    "c1 = -0.5/4\n",
    "c2 = -2"
   ]
  },
  {
   "cell_type": "code",
   "execution_count": 15,
   "metadata": {
    "collapsed": true,
    "deletable": true,
    "editable": true
   },
   "outputs": [],
   "source": [
    "# c0 = -0.1/2\n",
    "# c1 = -0.5/2\n",
    "# c2 = -2"
   ]
  },
  {
   "cell_type": "code",
   "execution_count": 20,
   "metadata": {
    "collapsed": true,
    "deletable": true,
    "editable": true
   },
   "outputs": [
    {
     "name": "stdout",
     "output_type": "stream",
     "text": [
      "-0.025000    26568\n",
      " 0.000000    18459\n",
      " 0.125000     8824\n",
      "-0.125000     8061\n",
      " 0.250000     3221\n",
      "-0.250000     2777\n",
      " 0.375000     2112\n",
      " 0.500000     1953\n",
      "-0.375000     1431\n",
      "-0.500000      966\n",
      " 0.625000      511\n",
      "-0.224336      448\n",
      " 0.174336      441\n",
      "-0.064995      426\n",
      "-0.124917      412\n",
      " 0.074917      374\n",
      " 0.054957      353\n",
      " 0.014995      314\n",
      "-0.625000      293\n",
      "-0.074990      249\n",
      " 0.041642      237\n",
      " 0.024990      230\n",
      "-0.091642      230\n",
      "-0.104957      229\n",
      "-0.000001      218\n",
      " 0.174336      192\n",
      " 0.324336      184\n",
      "-0.322770      181\n",
      "-0.419751      180\n",
      "-0.124917      179\n",
      "             ...  \n",
      "-0.701795        1\n",
      "-0.093574        1\n",
      "-0.346439        1\n",
      "-1.939272        1\n",
      "-0.252826        1\n",
      "-0.017391        1\n",
      "-0.084242        1\n",
      " 0.047695        1\n",
      "-1.381106        1\n",
      " 0.206888        1\n",
      "-0.101001        1\n",
      " 0.063830        1\n",
      " 0.327009        1\n",
      "-0.004334        1\n",
      "-0.154410        1\n",
      " 0.330563        1\n",
      " 0.964818        1\n",
      " 2.117960        1\n",
      " 1.840352        1\n",
      " 0.037095        1\n",
      " 1.629468        1\n",
      " 2.241509        1\n",
      " 0.552425        1\n",
      " 1.974366        1\n",
      "-0.089116        1\n",
      " 0.267142        1\n",
      "-0.018718        1\n",
      "-0.479253        1\n",
      " 0.051601        1\n",
      " 1.609576        1\n",
      "Name: shaped_reward, dtype: int64\n"
     ]
    }
   ],
   "source": [
    "# add rewards\n",
    "orig_df['shaped_reward'] = 0\n",
    "for i in orig_df.index:\n",
    "    if i == 0:\n",
    "        continue\n",
    "    if orig_df.ix[i, 'icustayid'] == orig_df.ix[i-1, 'icustayid']:\n",
    "        sofa_cur = orig_df.ix[i,'SOFA']\n",
    "        sofa_prev = orig_df.ix[i-1,'SOFA']\n",
    "        lact_cur = orig_df.ix[i,'Arterial_lactate']\n",
    "        lact_prev = orig_df.ix[i-1,'Arterial_lactate']\n",
    "        reward = 0\n",
    "        if sofa_cur == sofa_prev and sofa_cur != 0:\n",
    "            reward += c0\n",
    "        reward += c1*(sofa_cur-sofa_prev)\n",
    "        reward += c2*np.tanh(lact_cur - lact_prev)\n",
    "        orig_df.ix[i,'shaped_reward'] = reward\n",
    "\n",
    "# if orig_df.ix[len(orig_df)-1, 'died_in_hosp'] == 1:\n",
    "#     orig_df.ix[len(orig_df)-1, 'shaped_reward'] = -100\n",
    "# elif orig_df.ix[len(orig_df)-1, 'died_in_hosp'] == 0:\n",
    "#      orig_df.ix[len(orig_df)-1, 'shaped_reward'] = 100\n",
    "print orig_df['shaped_reward'].value_counts()"
   ]
  },
  {
   "cell_type": "code",
   "execution_count": 21,
   "metadata": {
    "collapsed": false,
    "deletable": true,
    "editable": true
   },
   "outputs": [
    {
     "data": {
      "text/plain": [
       "<matplotlib.axes._subplots.AxesSubplot at 0x7f7beeab3ed0>"
      ]
     },
     "execution_count": 21,
     "metadata": {},
     "output_type": "execute_result"
    },
    {
     "data": {
      "image/png": "[encoded data removed]",
      "text/plain": [
       "<matplotlib.figure.Figure at 0x7f7bf50573d0>"
      ]
     },
     "metadata": {},
     "output_type": "display_data"
    }
   ],
   "source": [
    "%matplotlib inline\n",
    "orig_df['shaped_reward'].hist(bins=100)"
   ]
  },
  {
   "cell_type": "code",
   "execution_count": 22,
   "metadata": {
    "collapsed": false,
    "deletable": true,
    "editable": true
   },
   "outputs": [],
   "source": [
    "train_ids = df_train['icustayid'].unique()\n",
    "val_ids = df_val['icustayid'].unique()\n",
    "test_ids = df_test['icustayid'].unique()"
   ]
  },
  {
   "cell_type": "code",
   "execution_count": 23,
   "metadata": {
    "collapsed": true,
    "deletable": true,
    "editable": true
   },
   "outputs": [],
   "source": [
    "train_rewards = orig_df.loc[orig_df['icustayid'].isin(train_ids)]['shaped_reward']"
   ]
  },
  {
   "cell_type": "code",
   "execution_count": 24,
   "metadata": {
    "collapsed": false,
    "deletable": true,
    "editable": true
   },
   "outputs": [
    {
     "data": {
      "text/plain": [
       "193654"
      ]
     },
     "execution_count": 24,
     "metadata": {},
     "output_type": "execute_result"
    }
   ],
   "source": [
    "len(train_rewards)"
   ]
  },
  {
   "cell_type": "code",
   "execution_count": 25,
   "metadata": {
    "collapsed": false,
    "deletable": true,
    "editable": true,
    "scrolled": true
   },
   "outputs": [
    {
     "data": {
      "text/plain": [
       "242432    0.164338\n",
       "242433   -0.110662\n",
       "242434   -0.110662\n",
       "242435    0.039338\n",
       "242436   -0.110662\n",
       "Name: shaped_reward, dtype: float64"
      ]
     },
     "execution_count": 25,
     "metadata": {},
     "output_type": "execute_result"
    }
   ],
   "source": [
    "train_rewards.tail()"
   ]
  },
  {
   "cell_type": "code",
   "execution_count": null,
   "metadata": {
    "collapsed": true
   },
   "outputs": [],
   "source": [
    "# check this works as expected\n",
    "val_rewards = orig_df.loc[orig_df['icustayid'].isin(val_ids)]['shaped_reward']"
   ]
  },
  {
   "cell_type": "code",
   "execution_count": 26,
   "metadata": {
    "collapsed": false,
    "deletable": true,
    "editable": true
   },
   "outputs": [],
   "source": [
    "test_rewards = orig_df.loc[orig_df['icustayid'].isin(test_ids)]['shaped_reward']"
   ]
  },
  {
   "cell_type": "code",
   "execution_count": 27,
   "metadata": {
    "collapsed": false,
    "deletable": true,
    "editable": true
   },
   "outputs": [
    {
     "data": {
      "text/plain": [
       "48796"
      ]
     },
     "execution_count": 27,
     "metadata": {},
     "output_type": "execute_result"
    }
   ],
   "source": [
    "len(test_rewards)"
   ]
  },
  {
   "cell_type": "code",
   "execution_count": 28,
   "metadata": {
    "collapsed": false,
    "deletable": true,
    "editable": true
   },
   "outputs": [
    {
     "data": {
      "text/plain": [
       "242442"
      ]
     },
     "execution_count": 28,
     "metadata": {},
     "output_type": "execute_result"
    }
   ],
   "source": [
    "193646 +48796"
   ]
  },
  {
   "cell_type": "code",
   "execution_count": 29,
   "metadata": {
    "collapsed": false,
    "deletable": true,
    "editable": true,
    "scrolled": true
   },
   "outputs": [
    {
     "data": {
      "text/html": [
       "<div>\n",
       "<table border=\"1\" class=\"dataframe\">\n",
       "  <thead>\n",
       "    <tr style=\"text-align: right;\">\n",
       "      <th></th>\n",
       "      <th>bloc</th>\n",
       "      <th>icustayid</th>\n",
       "      <th>charttime</th>\n",
       "      <th>gender</th>\n",
       "      <th>age</th>\n",
       "      <th>elixhauser</th>\n",
       "      <th>re_admission</th>\n",
       "      <th>died_in_hosp</th>\n",
       "      <th>mortality_90d</th>\n",
       "      <th>Weight_kg</th>\n",
       "      <th>...</th>\n",
       "      <th>max_dose_vaso</th>\n",
       "      <th>input_total_tev</th>\n",
       "      <th>input_4hourly_tev</th>\n",
       "      <th>output_total</th>\n",
       "      <th>output_4hourly</th>\n",
       "      <th>cumulated_balance_tev</th>\n",
       "      <th>vaso_input</th>\n",
       "      <th>iv_input</th>\n",
       "      <th>reward</th>\n",
       "      <th>actual_action</th>\n",
       "    </tr>\n",
       "  </thead>\n",
       "  <tbody>\n",
       "    <tr>\n",
       "      <th>193649</th>\n",
       "      <td>16</td>\n",
       "      <td>99994</td>\n",
       "      <td>4574226420</td>\n",
       "      <td>0.5</td>\n",
       "      <td>0.567459</td>\n",
       "      <td>0.988084</td>\n",
       "      <td>0.5</td>\n",
       "      <td>0</td>\n",
       "      <td>0</td>\n",
       "      <td>0.030161</td>\n",
       "      <td>...</td>\n",
       "      <td>-0.379552</td>\n",
       "      <td>0.858052</td>\n",
       "      <td>-0.120501</td>\n",
       "      <td>-2.750597</td>\n",
       "      <td>-2.008267</td>\n",
       "      <td>2.619295</td>\n",
       "      <td>0.0</td>\n",
       "      <td>1.0</td>\n",
       "      <td>0</td>\n",
       "      <td>5</td>\n",
       "    </tr>\n",
       "    <tr>\n",
       "      <th>193650</th>\n",
       "      <td>17</td>\n",
       "      <td>99994</td>\n",
       "      <td>4574240820</td>\n",
       "      <td>0.5</td>\n",
       "      <td>0.567459</td>\n",
       "      <td>0.988084</td>\n",
       "      <td>0.5</td>\n",
       "      <td>0</td>\n",
       "      <td>0</td>\n",
       "      <td>0.030161</td>\n",
       "      <td>...</td>\n",
       "      <td>-0.379552</td>\n",
       "      <td>0.858558</td>\n",
       "      <td>-0.054785</td>\n",
       "      <td>-2.750597</td>\n",
       "      <td>-2.008267</td>\n",
       "      <td>2.622999</td>\n",
       "      <td>0.0</td>\n",
       "      <td>1.0</td>\n",
       "      <td>0</td>\n",
       "      <td>5</td>\n",
       "    </tr>\n",
       "    <tr>\n",
       "      <th>193651</th>\n",
       "      <td>18</td>\n",
       "      <td>99994</td>\n",
       "      <td>4574255220</td>\n",
       "      <td>0.5</td>\n",
       "      <td>0.567459</td>\n",
       "      <td>0.988084</td>\n",
       "      <td>0.5</td>\n",
       "      <td>0</td>\n",
       "      <td>0</td>\n",
       "      <td>0.030161</td>\n",
       "      <td>...</td>\n",
       "      <td>-0.379552</td>\n",
       "      <td>0.858962</td>\n",
       "      <td>-0.120501</td>\n",
       "      <td>-2.750597</td>\n",
       "      <td>-2.008267</td>\n",
       "      <td>2.625962</td>\n",
       "      <td>0.0</td>\n",
       "      <td>1.0</td>\n",
       "      <td>0</td>\n",
       "      <td>5</td>\n",
       "    </tr>\n",
       "    <tr>\n",
       "      <th>193652</th>\n",
       "      <td>19</td>\n",
       "      <td>99994</td>\n",
       "      <td>4574269620</td>\n",
       "      <td>0.5</td>\n",
       "      <td>0.567459</td>\n",
       "      <td>0.988084</td>\n",
       "      <td>0.5</td>\n",
       "      <td>0</td>\n",
       "      <td>0</td>\n",
       "      <td>0.030161</td>\n",
       "      <td>...</td>\n",
       "      <td>-0.379552</td>\n",
       "      <td>0.859366</td>\n",
       "      <td>-0.120501</td>\n",
       "      <td>-2.750597</td>\n",
       "      <td>-2.008267</td>\n",
       "      <td>2.628925</td>\n",
       "      <td>0.0</td>\n",
       "      <td>1.0</td>\n",
       "      <td>0</td>\n",
       "      <td>5</td>\n",
       "    </tr>\n",
       "    <tr>\n",
       "      <th>193653</th>\n",
       "      <td>20</td>\n",
       "      <td>99994</td>\n",
       "      <td>4574284020</td>\n",
       "      <td>0.5</td>\n",
       "      <td>0.567459</td>\n",
       "      <td>0.988084</td>\n",
       "      <td>0.5</td>\n",
       "      <td>0</td>\n",
       "      <td>0</td>\n",
       "      <td>0.030161</td>\n",
       "      <td>...</td>\n",
       "      <td>-0.379552</td>\n",
       "      <td>0.859769</td>\n",
       "      <td>-0.120501</td>\n",
       "      <td>-2.750597</td>\n",
       "      <td>-2.008267</td>\n",
       "      <td>2.631889</td>\n",
       "      <td>0.0</td>\n",
       "      <td>1.0</td>\n",
       "      <td>15</td>\n",
       "      <td>5</td>\n",
       "    </tr>\n",
       "  </tbody>\n",
       "</table>\n",
       "<p>5 rows × 61 columns</p>\n",
       "</div>"
      ],
      "text/plain": [
       "        bloc  icustayid   charttime  gender       age  elixhauser  \\\n",
       "193649    16      99994  4574226420     0.5  0.567459    0.988084   \n",
       "193650    17      99994  4574240820     0.5  0.567459    0.988084   \n",
       "193651    18      99994  4574255220     0.5  0.567459    0.988084   \n",
       "193652    19      99994  4574269620     0.5  0.567459    0.988084   \n",
       "193653    20      99994  4574284020     0.5  0.567459    0.988084   \n",
       "\n",
       "        re_admission  died_in_hosp  mortality_90d  Weight_kg      ...        \\\n",
       "193649           0.5             0              0   0.030161      ...         \n",
       "193650           0.5             0              0   0.030161      ...         \n",
       "193651           0.5             0              0   0.030161      ...         \n",
       "193652           0.5             0              0   0.030161      ...         \n",
       "193653           0.5             0              0   0.030161      ...         \n",
       "\n",
       "        max_dose_vaso  input_total_tev  input_4hourly_tev  output_total  \\\n",
       "193649      -0.379552         0.858052          -0.120501     -2.750597   \n",
       "193650      -0.379552         0.858558          -0.054785     -2.750597   \n",
       "193651      -0.379552         0.858962          -0.120501     -2.750597   \n",
       "193652      -0.379552         0.859366          -0.120501     -2.750597   \n",
       "193653      -0.379552         0.859769          -0.120501     -2.750597   \n",
       "\n",
       "        output_4hourly  cumulated_balance_tev  vaso_input  iv_input  reward  \\\n",
       "193649       -2.008267               2.619295         0.0       1.0       0   \n",
       "193650       -2.008267               2.622999         0.0       1.0       0   \n",
       "193651       -2.008267               2.625962         0.0       1.0       0   \n",
       "193652       -2.008267               2.628925         0.0       1.0       0   \n",
       "193653       -2.008267               2.631889         0.0       1.0      15   \n",
       "\n",
       "        actual_action  \n",
       "193649              5  \n",
       "193650              5  \n",
       "193651              5  \n",
       "193652              5  \n",
       "193653              5  \n",
       "\n",
       "[5 rows x 61 columns]"
      ]
     },
     "execution_count": 29,
     "metadata": {},
     "output_type": "execute_result"
    }
   ],
   "source": [
    "df_train.tail()"
   ]
  },
  {
   "cell_type": "code",
   "execution_count": 30,
   "metadata": {
    "collapsed": false,
    "deletable": true,
    "editable": true
   },
   "outputs": [
    {
     "data": {
      "text/plain": [
       "242450"
      ]
     },
     "execution_count": 30,
     "metadata": {},
     "output_type": "execute_result"
    }
   ],
   "source": [
    "len(orig_df['shaped_reward'])"
   ]
  },
  {
   "cell_type": "code",
   "execution_count": 31,
   "metadata": {
    "collapsed": false,
    "deletable": true,
    "editable": true
   },
   "outputs": [
    {
     "data": {
      "text/plain": [
       "193654"
      ]
     },
     "execution_count": 31,
     "metadata": {},
     "output_type": "execute_result"
    }
   ],
   "source": [
    "len(df_train)"
   ]
  },
  {
   "cell_type": "code",
   "execution_count": 32,
   "metadata": {
    "collapsed": false,
    "deletable": true,
    "editable": true
   },
   "outputs": [
    {
     "data": {
      "text/plain": [
       "242450"
      ]
     },
     "execution_count": 32,
     "metadata": {},
     "output_type": "execute_result"
    }
   ],
   "source": [
    "# check that this sums to the total number of data items -- needs to be re-run\n",
    "len(df_train) + len(df_test) len(df_val)"
   ]
  },
  {
   "cell_type": "code",
   "execution_count": 33,
   "metadata": {
    "collapsed": false,
    "deletable": true,
    "editable": true
   },
   "outputs": [],
   "source": [
    "df_train['reward'] += np.array(train_rewards)\n",
    "df_val['reward'] += np.array(val_rewards)\n",
    "df_test['reward'] += np.array(test_rewards)"
   ]
  },
  {
   "cell_type": "code",
   "execution_count": null,
   "metadata": {
    "collapsed": true
   },
   "outputs": [],
   "source": [
    "df_train_disc['reward'] += np.array(train_rewards)\n",
    "df_val_disc['reward'] += np.array(val_rewards)\n",
    "df_test_disc['reward'] += np.array(test_rewards)"
   ]
  },
  {
   "cell_type": "code",
   "execution_count": null,
   "metadata": {
    "collapsed": true
   },
   "outputs": [],
   "source": [
    "df_train.to_csv('../data/rl_train_data_final_cont.csv',index=False)\n",
    "df_val.to_csv('../data/rl_val_data_final_cont.csv', index=False)\n",
    "df_test.to_csv('../data/rl_test_data_final_cont.csv',index=False)"
   ]
  },
  {
   "cell_type": "code",
   "execution_count": null,
   "metadata": {
    "collapsed": true
   },
   "outputs": [],
   "source": [
    "df_train_disc.to_csv('../data/rl_train_data_final_disc.csv',index=False)\n",
    "df_val_disc.to_csv('../data/rl_val_data_final_disc.csv', index=False)\n",
    "df_test_disc.to_csv('../data/rl_test_data_final_disc.csv',index=False)"
   ]
  },
  {
   "cell_type": "code",
   "execution_count": 68,
   "metadata": {
    "collapsed": true,
    "deletable": true,
    "editable": true
   },
   "outputs": [
    {
     "data": {
      "text/plain": [
       "0     0.000000\n",
       "1     0.125000\n",
       "2     0.657321\n",
       "3     1.367788\n",
       "4     1.199099\n",
       "5     1.057596\n",
       "6    -0.625000\n",
       "7     0.432822\n",
       "8     1.905144\n",
       "9    -0.375000\n",
       "10    0.054957\n",
       "11    0.054957\n",
       "12    0.054957\n",
       "13    0.054957\n",
       "24    0.000000\n",
       "25    1.917545\n",
       "26    1.780066\n",
       "27    0.557625\n",
       "28    0.797751\n",
       "29    0.575874\n",
       "Name: shaped_reward, dtype: float64"
      ]
     },
     "execution_count": 68,
     "metadata": {},
     "output_type": "execute_result"
    }
   ],
   "source": [
    "train_rewards.head(n=20)"
   ]
  },
  {
   "cell_type": "code",
   "execution_count": 67,
   "metadata": {
    "collapsed": true,
    "deletable": true,
    "editable": true
   },
   "outputs": [
    {
     "data": {
      "text/plain": [
       "0      0.000000\n",
       "1      0.125000\n",
       "2      0.657321\n",
       "3      1.367788\n",
       "4      1.199099\n",
       "5      1.057596\n",
       "6     -0.625000\n",
       "7      0.432822\n",
       "8      1.905144\n",
       "9     -0.375000\n",
       "10     0.054957\n",
       "11     0.054957\n",
       "12     0.054957\n",
       "13    15.054957\n",
       "14     0.000000\n",
       "15     1.917545\n",
       "16     1.780066\n",
       "17     0.557625\n",
       "18     0.797751\n",
       "19     0.575874\n",
       "Name: reward, dtype: float64"
      ]
     },
     "execution_count": 67,
     "metadata": {},
     "output_type": "execute_result"
    }
   ],
   "source": [
    "df_train['reward'].head(n=20)"
   ]
  }
 ],
 "metadata": {
  "kernelspec": {
   "display_name": "Python 2",
   "language": "python",
   "name": "python2"
  },
  "language_info": {
   "codemirror_mode": {
    "name": "ipython",
    "version": 2
   },
   "file_extension": ".py",
   "mimetype": "text/x-python",
   "name": "python",
   "nbconvert_exporter": "python",
   "pygments_lexer": "ipython2",
   "version": "2.7.12"
  }
 },
 "nbformat": 4,
 "nbformat_minor": 2
}
